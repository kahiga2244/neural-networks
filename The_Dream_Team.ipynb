{
  "nbformat": 4,
  "nbformat_minor": 0,
  "metadata": {
    "colab": {
      "name": "The Dream Team.ipynb",
      "provenance": [],
      "include_colab_link": true
    },
    "kernelspec": {
      "name": "python3",
      "display_name": "Python 3"
    },
    "accelerator": "GPU"
  },
  "cells": [
    {
      "cell_type": "markdown",
      "metadata": {
        "id": "view-in-github",
        "colab_type": "text"
      },
      "source": [
        "<a href=\"https://colab.research.google.com/github/kahiga2244/neural-networks/blob/master/The_Dream_Team.ipynb\" target=\"_parent\"><img src=\"https://colab.research.google.com/assets/colab-badge.svg\" alt=\"Open In Colab\"/></a>"
      ]
    },
    {
      "cell_type": "markdown",
      "metadata": {
        "id": "ELxWa-Ijvhir",
        "colab_type": "text"
      },
      "source": [
        "# Covid 19  tweet sentiment analysis "
      ]
    },
    {
      "cell_type": "markdown",
      "metadata": {
        "id": "OE0W8M9fKnu0",
        "colab_type": "text"
      },
      "source": [
        "**The placement project**\n",
        "\n",
        "The dream team  is a cohort of data scientists who use data to derive insights that are useful in decision making. The dream collected, analyzed and predicted a Covid 19  tweet analysis  dataset with the aim of developing a machine learning model to assess if a Twitter post is about covid-19 or not .\n",
        "\n",
        "**Dataset**: "
      ]
    },
    {
      "cell_type": "markdown",
      "metadata": {
        "id": "VyjQDrSxKoA3",
        "colab_type": "text"
      },
      "source": [
        "\n",
        "##Research objectives"
      ]
    },
    {
      "cell_type": "markdown",
      "metadata": {
        "id": "QGjCBnolKoNN",
        "colab_type": "text"
      },
      "source": [
        "### **Specifying the analytic question**\n",
        "\n",
        "As Data Scientists, we have been tasked with building a model that determines whether or not a Twitter post is about covid-19.\n"
      ]
    },
    {
      "cell_type": "markdown",
      "metadata": {
        "id": "fGym59VdKoJA",
        "colab_type": "text"
      },
      "source": [
        "### **Defining the metrics of success**\n",
        "\n",
        "Our success will be determined by building a model with the best metrics scores ie the best accuracy score from the classification_report metric and the best classification from Confusion_matric metric. An accuracy score of between 65% and 95%  and an F score close to 1 will be considered ideal "
      ]
    },
    {
      "cell_type": "markdown",
      "metadata": {
        "id": "G0MoOSs1MbHe",
        "colab_type": "text"
      },
      "source": [
        "### **Understanding the context**\n",
        "Our model will be useful in assisting the health sector in gauging Citizens awareness of Covid 19"
      ]
    },
    {
      "cell_type": "markdown",
      "metadata": {
        "id": "O0gg4VwaMxd_",
        "colab_type": "text"
      },
      "source": [
        "### **Recording the Experimental Design**\n",
        "\n",
        "Below is the expected workflow of our analysis\n",
        "\n",
        "1.   Data Cleaning and Preparation\n",
        "\n",
        "*   Load libraries and dataset\n",
        "*   Deal with mising values\n",
        "  \n",
        "2.   Perform EDA\n",
        "\n",
        "3.  Carry out classification while providing description on how each model.\n",
        "\n",
        "5.  Make predictions using diffrent Models\n",
        "6.  Access accuracy of diffrent models\n",
        "7.  Make conclusions & Challenge the solution\n",
        "\n"
      ]
    },
    {
      "cell_type": "markdown",
      "metadata": {
        "id": "nO6-evscM7mO",
        "colab_type": "text"
      },
      "source": [
        "###**Data relevance/ Appropriateness of Data**\n",
        "Our dataset was relevant for this experiment. Below are the description of the fields:\n",
        "\n",
        "* ID\n",
        "* TEXT\n",
        "* TARGET"
      ]
    },
    {
      "cell_type": "markdown",
      "metadata": {
        "id": "aN3SiVAINQGv",
        "colab_type": "text"
      },
      "source": [
        "## Reading the data"
      ]
    },
    {
      "cell_type": "markdown",
      "metadata": {
        "id": "Gly_LCYgxVzS",
        "colab_type": "text"
      },
      "source": [
        "### Importing the necessary libraries"
      ]
    },
    {
      "cell_type": "code",
      "metadata": {
        "id": "o2RW_smZxtHg",
        "colab_type": "code",
        "colab": {
          "base_uri": "https://localhost:8080/",
          "height": 88
        },
        "outputId": "24c12aa7-908a-4841-8a41-37a05e33b285"
      },
      "source": [
        "#Import the necessary libraries\n",
        "import pandas as pd\n",
        "import numpy as np\n",
        "import seaborn as sns\n",
        "import matplotlib.pyplot as plt\n",
        "from IPython.display import Image\n",
        "import warnings \n",
        "warnings.filterwarnings('ignore')\n",
        "\n",
        "from sklearn.preprocessing import LabelEncoder\n",
        "from sklearn.model_selection import train_test_split\n",
        "\n",
        "\n",
        "import pandas as pd\n",
        "import numpy as np\n",
        "import matplotlib.pyplot as plt\n",
        "import seaborn as sns\n",
        "from sklearn.model_selection import train_test_split\n",
        "from sklearn.preprocessing import LabelEncoder\n",
        "from keras.models import Model\n",
        "from keras.layers import LSTM, Activation, Dense, Dropout, Input, Embedding\n",
        "from keras.optimizers import RMSprop\n",
        "from keras.preprocessing.text import Tokenizer\n",
        "from keras.preprocessing import sequence\n",
        "from keras.utils import to_categorical\n",
        "from keras.callbacks import EarlyStopping\n",
        "%matplotlib inline\n",
        "\n",
        "\n",
        "import keras\n",
        "from keras.models import Model\n",
        "from keras.layers.embeddings import Embedding\n",
        "from keras.preprocessing.text import Tokenizer\n",
        "from keras.preprocessing.sequence import pad_sequences\n"
      ],
      "execution_count": null,
      "outputs": [
        {
          "output_type": "stream",
          "text": [
            "/usr/local/lib/python3.6/dist-packages/statsmodels/tools/_testing.py:19: FutureWarning: pandas.util.testing is deprecated. Use the functions in the public API at pandas.testing instead.\n",
            "  import pandas.util.testing as tm\n",
            "Using TensorFlow backend.\n"
          ],
          "name": "stderr"
        }
      ]
    },
    {
      "cell_type": "code",
      "metadata": {
        "id": "3dWO5QoUWNV1",
        "colab_type": "code",
        "colab": {
          "base_uri": "https://localhost:8080/",
          "height": 51
        },
        "outputId": "999dbbb2-f7cf-457a-b9ba-5b4f7fc0a846"
      },
      "source": [
        "import numpy as np \n",
        "import random\n",
        "import pandas as pd \n",
        "import matplotlib.pyplot as plt\n",
        "import seaborn as sns\n",
        "%matplotlib inline\n",
        "from plotly import graph_objs as go\n",
        "import plotly.express as px\n",
        "import plotly.figure_factory as ff\n",
        "from collections import Counter\n",
        "\n",
        "from PIL import Image\n",
        "from wordcloud import WordCloud, STOPWORDS, ImageColorGenerator\n",
        "\n",
        "\n",
        "import nltk\n",
        "nltk.download('stopwords')\n",
        "from nltk.corpus import stopwords\n",
        "\n",
        "from tqdm import tqdm\n",
        "import os\n",
        "import nltk\n",
        "import spacy\n",
        "import random\n",
        "from spacy.util import compounding\n",
        "from spacy.util import minibatch\n",
        "\n",
        "import warnings\n",
        "warnings.filterwarnings(\"ignore\")\n",
        "\n"
      ],
      "execution_count": null,
      "outputs": [
        {
          "output_type": "stream",
          "text": [
            "[nltk_data] Downloading package stopwords to /root/nltk_data...\n",
            "[nltk_data]   Package stopwords is already up-to-date!\n"
          ],
          "name": "stdout"
        }
      ]
    },
    {
      "cell_type": "markdown",
      "metadata": {
        "id": "6nD_T75DxQYZ",
        "colab_type": "text"
      },
      "source": [
        "## Loading Data"
      ]
    },
    {
      "cell_type": "code",
      "metadata": {
        "id": "GeiL6KpavamT",
        "colab_type": "code",
        "colab": {}
      },
      "source": [
        "# Loading in the test & train data \n",
        "dtest = pd.read_csv('/content/updated_test.csv')\n",
        "dtrain = pd.read_csv('/content/updated_train.csv')\n"
      ],
      "execution_count": null,
      "outputs": []
    },
    {
      "cell_type": "markdown",
      "metadata": {
        "id": "xZEbCtDQzA21",
        "colab_type": "text"
      },
      "source": [
        "## Checking the data"
      ]
    },
    {
      "cell_type": "code",
      "metadata": {
        "id": "FcM7auyKy2am",
        "colab_type": "code",
        "colab": {
          "base_uri": "https://localhost:8080/",
          "height": 204
        },
        "outputId": "c850c82f-eece-49f0-9e08-fc6eda09c750"
      },
      "source": [
        "# Preview of head of train data \n",
        "dtrain.head()"
      ],
      "execution_count": null,
      "outputs": [
        {
          "output_type": "execute_result",
          "data": {
            "text/html": [
              "<div>\n",
              "<style scoped>\n",
              "    .dataframe tbody tr th:only-of-type {\n",
              "        vertical-align: middle;\n",
              "    }\n",
              "\n",
              "    .dataframe tbody tr th {\n",
              "        vertical-align: top;\n",
              "    }\n",
              "\n",
              "    .dataframe thead th {\n",
              "        text-align: right;\n",
              "    }\n",
              "</style>\n",
              "<table border=\"1\" class=\"dataframe\">\n",
              "  <thead>\n",
              "    <tr style=\"text-align: right;\">\n",
              "      <th></th>\n",
              "      <th>ID</th>\n",
              "      <th>text</th>\n",
              "      <th>target</th>\n",
              "    </tr>\n",
              "  </thead>\n",
              "  <tbody>\n",
              "    <tr>\n",
              "      <th>0</th>\n",
              "      <td>train_0</td>\n",
              "      <td>The bitcoin halving is cancelled due to</td>\n",
              "      <td>1</td>\n",
              "    </tr>\n",
              "    <tr>\n",
              "      <th>1</th>\n",
              "      <td>train_1</td>\n",
              "      <td>MercyOfAllah In good times wrapped in its gran...</td>\n",
              "      <td>0</td>\n",
              "    </tr>\n",
              "    <tr>\n",
              "      <th>2</th>\n",
              "      <td>train_2</td>\n",
              "      <td>266 Days No Digital India No Murder of e learn...</td>\n",
              "      <td>1</td>\n",
              "    </tr>\n",
              "    <tr>\n",
              "      <th>3</th>\n",
              "      <td>train_3</td>\n",
              "      <td>India is likely to run out of the remaining RN...</td>\n",
              "      <td>1</td>\n",
              "    </tr>\n",
              "    <tr>\n",
              "      <th>4</th>\n",
              "      <td>train_4</td>\n",
              "      <td>In these tough times the best way to grow is t...</td>\n",
              "      <td>0</td>\n",
              "    </tr>\n",
              "  </tbody>\n",
              "</table>\n",
              "</div>"
            ],
            "text/plain": [
              "        ID                                               text  target\n",
              "0  train_0            The bitcoin halving is cancelled due to       1\n",
              "1  train_1  MercyOfAllah In good times wrapped in its gran...       0\n",
              "2  train_2  266 Days No Digital India No Murder of e learn...       1\n",
              "3  train_3  India is likely to run out of the remaining RN...       1\n",
              "4  train_4  In these tough times the best way to grow is t...       0"
            ]
          },
          "metadata": {
            "tags": []
          },
          "execution_count": 4
        }
      ]
    },
    {
      "cell_type": "code",
      "metadata": {
        "id": "-vzG5XFOzMNY",
        "colab_type": "code",
        "colab": {
          "base_uri": "https://localhost:8080/",
          "height": 204
        },
        "outputId": "911e8fe3-6d7a-49f2-d7b6-b16597dc8556"
      },
      "source": [
        "# Preview of tail of train data\n",
        "dtrain.tail()"
      ],
      "execution_count": null,
      "outputs": [
        {
          "output_type": "execute_result",
          "data": {
            "text/html": [
              "<div>\n",
              "<style scoped>\n",
              "    .dataframe tbody tr th:only-of-type {\n",
              "        vertical-align: middle;\n",
              "    }\n",
              "\n",
              "    .dataframe tbody tr th {\n",
              "        vertical-align: top;\n",
              "    }\n",
              "\n",
              "    .dataframe thead th {\n",
              "        text-align: right;\n",
              "    }\n",
              "</style>\n",
              "<table border=\"1\" class=\"dataframe\">\n",
              "  <thead>\n",
              "    <tr style=\"text-align: right;\">\n",
              "      <th></th>\n",
              "      <th>ID</th>\n",
              "      <th>text</th>\n",
              "      <th>target</th>\n",
              "    </tr>\n",
              "  </thead>\n",
              "  <tbody>\n",
              "    <tr>\n",
              "      <th>5282</th>\n",
              "      <td>train_6856</td>\n",
              "      <td>The spread of the novel among asylum seekers o...</td>\n",
              "      <td>1</td>\n",
              "    </tr>\n",
              "    <tr>\n",
              "      <th>5283</th>\n",
              "      <td>train_6857</td>\n",
              "      <td>Hundreds of Jewish  patients are being treated...</td>\n",
              "      <td>1</td>\n",
              "    </tr>\n",
              "    <tr>\n",
              "      <th>5284</th>\n",
              "      <td>train_6858</td>\n",
              "      <td>Beats me Honestly most of the people I follow ...</td>\n",
              "      <td>0</td>\n",
              "    </tr>\n",
              "    <tr>\n",
              "      <th>5285</th>\n",
              "      <td>train_6859</td>\n",
              "      <td>Help us reach more people by donating and shar...</td>\n",
              "      <td>0</td>\n",
              "    </tr>\n",
              "    <tr>\n",
              "      <th>5286</th>\n",
              "      <td>train_6860</td>\n",
              "      <td>Interest Rate Swap Derivative Pricing in Pytho...</td>\n",
              "      <td>0</td>\n",
              "    </tr>\n",
              "  </tbody>\n",
              "</table>\n",
              "</div>"
            ],
            "text/plain": [
              "              ID                                               text  target\n",
              "5282  train_6856  The spread of the novel among asylum seekers o...       1\n",
              "5283  train_6857  Hundreds of Jewish  patients are being treated...       1\n",
              "5284  train_6858  Beats me Honestly most of the people I follow ...       0\n",
              "5285  train_6859  Help us reach more people by donating and shar...       0\n",
              "5286  train_6860  Interest Rate Swap Derivative Pricing in Pytho...       0"
            ]
          },
          "metadata": {
            "tags": []
          },
          "execution_count": 5
        }
      ]
    },
    {
      "cell_type": "code",
      "metadata": {
        "id": "RBJC_2grzjVb",
        "colab_type": "code",
        "colab": {
          "base_uri": "https://localhost:8080/",
          "height": 204
        },
        "outputId": "d7920a98-7bca-4ae2-dc2e-e0fd015431db"
      },
      "source": [
        "# Preview of head of test data\n",
        "dtest.head()"
      ],
      "execution_count": null,
      "outputs": [
        {
          "output_type": "execute_result",
          "data": {
            "text/html": [
              "<div>\n",
              "<style scoped>\n",
              "    .dataframe tbody tr th:only-of-type {\n",
              "        vertical-align: middle;\n",
              "    }\n",
              "\n",
              "    .dataframe tbody tr th {\n",
              "        vertical-align: top;\n",
              "    }\n",
              "\n",
              "    .dataframe thead th {\n",
              "        text-align: right;\n",
              "    }\n",
              "</style>\n",
              "<table border=\"1\" class=\"dataframe\">\n",
              "  <thead>\n",
              "    <tr style=\"text-align: right;\">\n",
              "      <th></th>\n",
              "      <th>ID</th>\n",
              "      <th>text</th>\n",
              "      <th>target</th>\n",
              "    </tr>\n",
              "  </thead>\n",
              "  <tbody>\n",
              "    <tr>\n",
              "      <th>0</th>\n",
              "      <td>test_2</td>\n",
              "      <td>Why is  explained in the video take a look</td>\n",
              "      <td>0</td>\n",
              "    </tr>\n",
              "    <tr>\n",
              "      <th>1</th>\n",
              "      <td>test_3</td>\n",
              "      <td>Ed Davey fasting for Ramadan No contest</td>\n",
              "      <td>0</td>\n",
              "    </tr>\n",
              "    <tr>\n",
              "      <th>2</th>\n",
              "      <td>test_4</td>\n",
              "      <td>Is Doja Cat good or do you just miss Nicki Minaj</td>\n",
              "      <td>0</td>\n",
              "    </tr>\n",
              "    <tr>\n",
              "      <th>3</th>\n",
              "      <td>test_8</td>\n",
              "      <td>How Boris Johnson s cheery wounded in action p...</td>\n",
              "      <td>0</td>\n",
              "    </tr>\n",
              "    <tr>\n",
              "      <th>4</th>\n",
              "      <td>test_9</td>\n",
              "      <td>Man it s terrible Not even a reason to get on ...</td>\n",
              "      <td>0</td>\n",
              "    </tr>\n",
              "  </tbody>\n",
              "</table>\n",
              "</div>"
            ],
            "text/plain": [
              "       ID                                               text  target\n",
              "0  test_2         Why is  explained in the video take a look       0\n",
              "1  test_3            Ed Davey fasting for Ramadan No contest       0\n",
              "2  test_4   Is Doja Cat good or do you just miss Nicki Minaj       0\n",
              "3  test_8  How Boris Johnson s cheery wounded in action p...       0\n",
              "4  test_9  Man it s terrible Not even a reason to get on ...       0"
            ]
          },
          "metadata": {
            "tags": []
          },
          "execution_count": 6
        }
      ]
    },
    {
      "cell_type": "code",
      "metadata": {
        "id": "RhT32x9a1B0U",
        "colab_type": "code",
        "colab": {
          "base_uri": "https://localhost:8080/",
          "height": 204
        },
        "outputId": "dae43ac4-5af3-4898-af7a-05889301dc48"
      },
      "source": [
        "# Preview of tail of test data\n",
        "dtest.tail()"
      ],
      "execution_count": null,
      "outputs": [
        {
          "output_type": "execute_result",
          "data": {
            "text/html": [
              "<div>\n",
              "<style scoped>\n",
              "    .dataframe tbody tr th:only-of-type {\n",
              "        vertical-align: middle;\n",
              "    }\n",
              "\n",
              "    .dataframe tbody tr th {\n",
              "        vertical-align: top;\n",
              "    }\n",
              "\n",
              "    .dataframe thead th {\n",
              "        text-align: right;\n",
              "    }\n",
              "</style>\n",
              "<table border=\"1\" class=\"dataframe\">\n",
              "  <thead>\n",
              "    <tr style=\"text-align: right;\">\n",
              "      <th></th>\n",
              "      <th>ID</th>\n",
              "      <th>text</th>\n",
              "      <th>target</th>\n",
              "    </tr>\n",
              "  </thead>\n",
              "  <tbody>\n",
              "    <tr>\n",
              "      <th>1957</th>\n",
              "      <td>test_2932</td>\n",
              "      <td>Fageeru meehaa geyga Bandah PUBLIC fundS amp G...</td>\n",
              "      <td>0</td>\n",
              "    </tr>\n",
              "    <tr>\n",
              "      <th>1958</th>\n",
              "      <td>test_2934</td>\n",
              "      <td>DFFN Diffusion Pharmaceuticals Announces Pre I...</td>\n",
              "      <td>0</td>\n",
              "    </tr>\n",
              "    <tr>\n",
              "      <th>1959</th>\n",
              "      <td>test_2936</td>\n",
              "      <td>I want to wish the Muslim members of Congress ...</td>\n",
              "      <td>0</td>\n",
              "    </tr>\n",
              "    <tr>\n",
              "      <th>1960</th>\n",
              "      <td>test_2937</td>\n",
              "      <td>You mean you don t believe there is a conspira...</td>\n",
              "      <td>0</td>\n",
              "    </tr>\n",
              "    <tr>\n",
              "      <th>1961</th>\n",
              "      <td>test_2940</td>\n",
              "      <td>Rajavi We call on the United Nations and the S...</td>\n",
              "      <td>0</td>\n",
              "    </tr>\n",
              "  </tbody>\n",
              "</table>\n",
              "</div>"
            ],
            "text/plain": [
              "             ID                                               text  target\n",
              "1957  test_2932  Fageeru meehaa geyga Bandah PUBLIC fundS amp G...       0\n",
              "1958  test_2934  DFFN Diffusion Pharmaceuticals Announces Pre I...       0\n",
              "1959  test_2936  I want to wish the Muslim members of Congress ...       0\n",
              "1960  test_2937  You mean you don t believe there is a conspira...       0\n",
              "1961  test_2940  Rajavi We call on the United Nations and the S...       0"
            ]
          },
          "metadata": {
            "tags": []
          },
          "execution_count": 7
        }
      ]
    },
    {
      "cell_type": "markdown",
      "metadata": {
        "id": "3DggY26p1l3D",
        "colab_type": "text"
      },
      "source": [
        "## Tidying the dataset"
      ]
    },
    {
      "cell_type": "code",
      "metadata": {
        "id": "hjxB0gg-1izl",
        "colab_type": "code",
        "colab": {
          "base_uri": "https://localhost:8080/",
          "height": 297
        },
        "outputId": "b9d2ccc5-db8b-455d-8e63-c93186a3e334"
      },
      "source": [
        "# Summary of the information\n",
        "dtrain.describe()"
      ],
      "execution_count": null,
      "outputs": [
        {
          "output_type": "execute_result",
          "data": {
            "text/html": [
              "<div>\n",
              "<style scoped>\n",
              "    .dataframe tbody tr th:only-of-type {\n",
              "        vertical-align: middle;\n",
              "    }\n",
              "\n",
              "    .dataframe tbody tr th {\n",
              "        vertical-align: top;\n",
              "    }\n",
              "\n",
              "    .dataframe thead th {\n",
              "        text-align: right;\n",
              "    }\n",
              "</style>\n",
              "<table border=\"1\" class=\"dataframe\">\n",
              "  <thead>\n",
              "    <tr style=\"text-align: right;\">\n",
              "      <th></th>\n",
              "      <th>target</th>\n",
              "    </tr>\n",
              "  </thead>\n",
              "  <tbody>\n",
              "    <tr>\n",
              "      <th>count</th>\n",
              "      <td>5287.000000</td>\n",
              "    </tr>\n",
              "    <tr>\n",
              "      <th>mean</th>\n",
              "      <td>0.480613</td>\n",
              "    </tr>\n",
              "    <tr>\n",
              "      <th>std</th>\n",
              "      <td>0.499671</td>\n",
              "    </tr>\n",
              "    <tr>\n",
              "      <th>min</th>\n",
              "      <td>0.000000</td>\n",
              "    </tr>\n",
              "    <tr>\n",
              "      <th>25%</th>\n",
              "      <td>0.000000</td>\n",
              "    </tr>\n",
              "    <tr>\n",
              "      <th>50%</th>\n",
              "      <td>0.000000</td>\n",
              "    </tr>\n",
              "    <tr>\n",
              "      <th>75%</th>\n",
              "      <td>1.000000</td>\n",
              "    </tr>\n",
              "    <tr>\n",
              "      <th>max</th>\n",
              "      <td>1.000000</td>\n",
              "    </tr>\n",
              "  </tbody>\n",
              "</table>\n",
              "</div>"
            ],
            "text/plain": [
              "            target\n",
              "count  5287.000000\n",
              "mean      0.480613\n",
              "std       0.499671\n",
              "min       0.000000\n",
              "25%       0.000000\n",
              "50%       0.000000\n",
              "75%       1.000000\n",
              "max       1.000000"
            ]
          },
          "metadata": {
            "tags": []
          },
          "execution_count": 8
        }
      ]
    },
    {
      "cell_type": "code",
      "metadata": {
        "id": "b-wkvKwP6JBM",
        "colab_type": "code",
        "colab": {
          "base_uri": "https://localhost:8080/",
          "height": 34
        },
        "outputId": "a75d2003-37bb-453f-95df-601d0b430ef9"
      },
      "source": [
        "# Checking the train data shape\n",
        "print(\"train dataset shape:\", dtrain.shape)"
      ],
      "execution_count": null,
      "outputs": [
        {
          "output_type": "stream",
          "text": [
            "train dataset shape: (5287, 3)\n"
          ],
          "name": "stdout"
        }
      ]
    },
    {
      "cell_type": "code",
      "metadata": {
        "id": "dkw0tOnX6ocG",
        "colab_type": "code",
        "colab": {
          "base_uri": "https://localhost:8080/",
          "height": 85
        },
        "outputId": "a8b8e20d-afde-4b7e-a1e7-1e0e9f9eba43"
      },
      "source": [
        "# Check for Train dataset datatype\n",
        "dtrain.dtypes\n"
      ],
      "execution_count": null,
      "outputs": [
        {
          "output_type": "execute_result",
          "data": {
            "text/plain": [
              "ID        object\n",
              "text      object\n",
              "target     int64\n",
              "dtype: object"
            ]
          },
          "metadata": {
            "tags": []
          },
          "execution_count": 10
        }
      ]
    },
    {
      "cell_type": "code",
      "metadata": {
        "id": "yZDPICeV4xmq",
        "colab_type": "code",
        "colab": {
          "base_uri": "https://localhost:8080/",
          "height": 85
        },
        "outputId": "862a9f65-c05a-4107-e5c3-46d889989307"
      },
      "source": [
        "# Sum of null values\n",
        "dtrain.isnull().sum()"
      ],
      "execution_count": null,
      "outputs": [
        {
          "output_type": "execute_result",
          "data": {
            "text/plain": [
              "ID        0\n",
              "text      0\n",
              "target    0\n",
              "dtype: int64"
            ]
          },
          "metadata": {
            "tags": []
          },
          "execution_count": 11
        }
      ]
    },
    {
      "cell_type": "code",
      "metadata": {
        "id": "H07of3uP488s",
        "colab_type": "code",
        "colab": {
          "base_uri": "https://localhost:8080/",
          "height": 34
        },
        "outputId": "de432601-75cb-4c63-859f-da28c03519d6"
      },
      "source": [
        "# Check for duplicate \n",
        "dtrain.duplicated().any()"
      ],
      "execution_count": null,
      "outputs": [
        {
          "output_type": "execute_result",
          "data": {
            "text/plain": [
              "False"
            ]
          },
          "metadata": {
            "tags": []
          },
          "execution_count": 12
        }
      ]
    },
    {
      "cell_type": "code",
      "metadata": {
        "id": "xazif9tB5PzR",
        "colab_type": "code",
        "colab": {
          "base_uri": "https://localhost:8080/",
          "height": 241
        },
        "outputId": "3d78c7f2-c3af-47e6-e2f9-87d1ec39404f"
      },
      "source": [
        "# Check for unique values in our dataset\n",
        "# -----\n",
        "for columns in dtrain.columns:\n",
        "  print('/n')\n",
        "  print(dtrain[columns].unique())"
      ],
      "execution_count": null,
      "outputs": [
        {
          "output_type": "stream",
          "text": [
            "/n\n",
            "['train_0' 'train_1' 'train_2' ... 'train_6858' 'train_6859' 'train_6860']\n",
            "/n\n",
            "['The bitcoin halving is cancelled due to'\n",
            " 'MercyOfAllah In good times wrapped in its granular detail I challenge myself to find meaning and model the humility t'\n",
            " '266 Days No Digital India No Murder of e learning No 2g online business No Restore in J amp k'\n",
            " ...\n",
            " 'Beats me Honestly most of the people I follow are because they are sports fans and I l share their tweets with a sports message board for the sake of shits and giggles'\n",
            " 'Help us reach more people by donating and sharing our Ramadan flyer To donate please send to our Keystone Bank Account 1009117904 or donate via'\n",
            " 'Interest Rate Swap Derivative Pricing in Python Harbourfront Technologies']\n",
            "/n\n",
            "[1 0]\n"
          ],
          "name": "stdout"
        }
      ]
    },
    {
      "cell_type": "code",
      "metadata": {
        "id": "im6bqoZ38HuZ",
        "colab_type": "code",
        "colab": {
          "base_uri": "https://localhost:8080/",
          "height": 34
        },
        "outputId": "a24ded26-f18b-4d4e-dcfa-9f1ab1817e1d"
      },
      "source": [
        "# dealing with outliers\n",
        "#\n",
        "# Import stats from scipy library\n",
        "from scipy import stats\n",
        "num = ['target']\n",
        "for i, col in enumerate(num):\n",
        "  z = np.abs(stats.zscore(dtrain[col]))\n",
        "print(z)\n"
      ],
      "execution_count": null,
      "outputs": [
        {
          "output_type": "stream",
          "text": [
            "[1.03955611 0.96194904 1.03955611 ... 0.96194904 0.96194904 0.96194904]\n"
          ],
          "name": "stdout"
        }
      ]
    },
    {
      "cell_type": "code",
      "metadata": {
        "id": "Sti-dESs87Xv",
        "colab_type": "code",
        "colab": {
          "base_uri": "https://localhost:8080/",
          "height": 51
        },
        "outputId": "6bbadeb3-8d32-4821-e0fe-9d16c1dc3644"
      },
      "source": [
        "# Confirming that our outliers have been dropped from the dataset.\n",
        "#\n",
        "dtrain_o = dtrain[(z < 2)]\n",
        "\n",
        "print(f\"Previous dataframe size : {dtrain.shape[0]}\")\n",
        "print(f\"New dataframe size: {dtrain_o.shape[0]}\")"
      ],
      "execution_count": null,
      "outputs": [
        {
          "output_type": "stream",
          "text": [
            "Previous dataframe size : 5287\n",
            "New dataframe size: 5287\n"
          ],
          "name": "stdout"
        }
      ]
    },
    {
      "cell_type": "code",
      "metadata": {
        "id": "L17wyAkD-nLn",
        "colab_type": "code",
        "colab": {}
      },
      "source": [
        "# We remove whitespaces from our rows\n",
        "# We also ensure that our rows are of the same case\n",
        "# dtrain_o.columns = dtrain_o.columns.str.strip().str.lower().str.replace(' ', '_').str.replace('.', '_').str.replace(',','')\n",
        "# dtrain_o.head()"
      ],
      "execution_count": null,
      "outputs": []
    },
    {
      "cell_type": "code",
      "metadata": {
        "id": "I77Cz8uE_4X0",
        "colab_type": "code",
        "colab": {}
      },
      "source": [
        "# Removing White Space from both columns and rows and converting case to lower case\n",
        "\n",
        "dtrain_o.columns = dtrain_o.columns.str.strip().str.replace('','').str.lower()\n",
        "\n",
        "cat = ['text'] \n",
        "\n",
        "for i, c in enumerate(cat):\n",
        "  dtrain_o[c] = dtrain_o[c].str.strip().str.replace('','').str.lower()"
      ],
      "execution_count": null,
      "outputs": []
    },
    {
      "cell_type": "code",
      "metadata": {
        "id": "nmgPWChsOB1T",
        "colab_type": "code",
        "colab": {}
      },
      "source": [
        "# Clean our text column\n",
        "# \n",
        "import re\n",
        "import string\n",
        "def clean_text(text):\n",
        "    '''Make text lowercase, remove text in square brackets,remove links,remove punctuation\n",
        "    and remove words containing numbers.'''\n",
        "    text = str(text).lower()\n",
        "    text = re.sub('\\[.*?\\]', '', text)\n",
        "    text = re.sub('https?://\\S+|www\\.\\S+', '', text)\n",
        "    text = re.sub('<.*?>+', '', text)\n",
        "    text = re.sub('[%s]' % re.escape(string.punctuation), '', text)\n",
        "    text = re.sub('\\n', '', text)\n",
        "    text = re.sub('\\w*\\d\\w*', '', text)\n",
        "    return text"
      ],
      "execution_count": null,
      "outputs": []
    },
    {
      "cell_type": "code",
      "metadata": {
        "id": "_1CpopjgOVVF",
        "colab_type": "code",
        "colab": {}
      },
      "source": [
        "dtrain_o['text'] = dtrain_o['text'].apply(lambda x:clean_text(x))"
      ],
      "execution_count": null,
      "outputs": []
    },
    {
      "cell_type": "code",
      "metadata": {
        "id": "9uxfgslYA3qw",
        "colab_type": "code",
        "colab": {
          "base_uri": "https://localhost:8080/",
          "height": 204
        },
        "outputId": "2acb3671-6372-4097-8ff2-13bd491cdf14"
      },
      "source": [
        "# Preview of train dataset\n",
        "\n",
        "dtrain.head()"
      ],
      "execution_count": null,
      "outputs": [
        {
          "output_type": "execute_result",
          "data": {
            "text/html": [
              "<div>\n",
              "<style scoped>\n",
              "    .dataframe tbody tr th:only-of-type {\n",
              "        vertical-align: middle;\n",
              "    }\n",
              "\n",
              "    .dataframe tbody tr th {\n",
              "        vertical-align: top;\n",
              "    }\n",
              "\n",
              "    .dataframe thead th {\n",
              "        text-align: right;\n",
              "    }\n",
              "</style>\n",
              "<table border=\"1\" class=\"dataframe\">\n",
              "  <thead>\n",
              "    <tr style=\"text-align: right;\">\n",
              "      <th></th>\n",
              "      <th>ID</th>\n",
              "      <th>text</th>\n",
              "      <th>target</th>\n",
              "    </tr>\n",
              "  </thead>\n",
              "  <tbody>\n",
              "    <tr>\n",
              "      <th>0</th>\n",
              "      <td>train_0</td>\n",
              "      <td>The bitcoin halving is cancelled due to</td>\n",
              "      <td>1</td>\n",
              "    </tr>\n",
              "    <tr>\n",
              "      <th>1</th>\n",
              "      <td>train_1</td>\n",
              "      <td>MercyOfAllah In good times wrapped in its gran...</td>\n",
              "      <td>0</td>\n",
              "    </tr>\n",
              "    <tr>\n",
              "      <th>2</th>\n",
              "      <td>train_2</td>\n",
              "      <td>266 Days No Digital India No Murder of e learn...</td>\n",
              "      <td>1</td>\n",
              "    </tr>\n",
              "    <tr>\n",
              "      <th>3</th>\n",
              "      <td>train_3</td>\n",
              "      <td>India is likely to run out of the remaining RN...</td>\n",
              "      <td>1</td>\n",
              "    </tr>\n",
              "    <tr>\n",
              "      <th>4</th>\n",
              "      <td>train_4</td>\n",
              "      <td>In these tough times the best way to grow is t...</td>\n",
              "      <td>0</td>\n",
              "    </tr>\n",
              "  </tbody>\n",
              "</table>\n",
              "</div>"
            ],
            "text/plain": [
              "        ID                                               text  target\n",
              "0  train_0            The bitcoin halving is cancelled due to       1\n",
              "1  train_1  MercyOfAllah In good times wrapped in its gran...       0\n",
              "2  train_2  266 Days No Digital India No Murder of e learn...       1\n",
              "3  train_3  India is likely to run out of the remaining RN...       1\n",
              "4  train_4  In these tough times the best way to grow is t...       0"
            ]
          },
          "metadata": {
            "tags": []
          },
          "execution_count": 20
        }
      ]
    },
    {
      "cell_type": "markdown",
      "metadata": {
        "id": "HPC1-1B0-iFp",
        "colab_type": "text"
      },
      "source": [
        "## EDA\n",
        "\n",
        "---\n",
        "\n",
        "\n",
        "\n",
        "---\n",
        "\n"
      ]
    },
    {
      "cell_type": "code",
      "metadata": {
        "id": "g26jXhde-VjT",
        "colab_type": "code",
        "colab": {}
      },
      "source": [
        "# Create subset of train dataset\n",
        "# df_positive is covid-related tweet \n",
        "# df_negative is non covid-related tweet\n",
        "\n",
        "df_positive = dtrain_o[dtrain_o['target']==1]\n",
        "df_negative = dtrain_o[dtrain_o['target']==0]"
      ],
      "execution_count": null,
      "outputs": []
    },
    {
      "cell_type": "code",
      "metadata": {
        "id": "-SgrNjMoPfwM",
        "colab_type": "code",
        "colab": {
          "base_uri": "https://localhost:8080/",
          "height": 204
        },
        "outputId": "179bd120-6d65-4fde-bd8d-495ecdefbba3"
      },
      "source": [
        "df_positive.head()"
      ],
      "execution_count": null,
      "outputs": [
        {
          "output_type": "execute_result",
          "data": {
            "text/html": [
              "<div>\n",
              "<style scoped>\n",
              "    .dataframe tbody tr th:only-of-type {\n",
              "        vertical-align: middle;\n",
              "    }\n",
              "\n",
              "    .dataframe tbody tr th {\n",
              "        vertical-align: top;\n",
              "    }\n",
              "\n",
              "    .dataframe thead th {\n",
              "        text-align: right;\n",
              "    }\n",
              "</style>\n",
              "<table border=\"1\" class=\"dataframe\">\n",
              "  <thead>\n",
              "    <tr style=\"text-align: right;\">\n",
              "      <th></th>\n",
              "      <th>id</th>\n",
              "      <th>text</th>\n",
              "      <th>target</th>\n",
              "    </tr>\n",
              "  </thead>\n",
              "  <tbody>\n",
              "    <tr>\n",
              "      <th>0</th>\n",
              "      <td>train_0</td>\n",
              "      <td>the bitcoin halving is cancelled due to</td>\n",
              "      <td>1</td>\n",
              "    </tr>\n",
              "    <tr>\n",
              "      <th>2</th>\n",
              "      <td>train_2</td>\n",
              "      <td>days no digital india no murder of e learning...</td>\n",
              "      <td>1</td>\n",
              "    </tr>\n",
              "    <tr>\n",
              "      <th>3</th>\n",
              "      <td>train_3</td>\n",
              "      <td>india is likely to run out of the remaining rn...</td>\n",
              "      <td>1</td>\n",
              "    </tr>\n",
              "    <tr>\n",
              "      <th>8</th>\n",
              "      <td>train_8</td>\n",
              "      <td>frontline health workers are critical in the f...</td>\n",
              "      <td>1</td>\n",
              "    </tr>\n",
              "    <tr>\n",
              "      <th>10</th>\n",
              "      <td>train_10</td>\n",
              "      <td>maybe one of the distinguishing features of a ...</td>\n",
              "      <td>1</td>\n",
              "    </tr>\n",
              "  </tbody>\n",
              "</table>\n",
              "</div>"
            ],
            "text/plain": [
              "          id                                               text  target\n",
              "0    train_0            the bitcoin halving is cancelled due to       1\n",
              "2    train_2   days no digital india no murder of e learning...       1\n",
              "3    train_3  india is likely to run out of the remaining rn...       1\n",
              "8    train_8  frontline health workers are critical in the f...       1\n",
              "10  train_10  maybe one of the distinguishing features of a ...       1"
            ]
          },
          "metadata": {
            "tags": []
          },
          "execution_count": 22
        }
      ]
    },
    {
      "cell_type": "code",
      "metadata": {
        "id": "6WqLOIpcCtkW",
        "colab_type": "code",
        "colab": {
          "base_uri": "https://localhost:8080/",
          "height": 51
        },
        "outputId": "ac237c1d-68af-43aa-c2a8-50f2bd1f1239"
      },
      "source": [
        "# Shape of covid-related tweet  and non covid-related tweet\n",
        "\n",
        "print(\"Covid 19 related:\",df_positive.shape)\n",
        "print(\"Non-Covid 19 related:\",df_negative.shape)"
      ],
      "execution_count": null,
      "outputs": [
        {
          "output_type": "stream",
          "text": [
            "Covid 19 related: (2541, 3)\n",
            "Non-Covid 19 related: (2746, 3)\n"
          ],
          "name": "stdout"
        }
      ]
    },
    {
      "cell_type": "code",
      "metadata": {
        "id": "N9CpquDwCyAJ",
        "colab_type": "code",
        "colab": {
          "base_uri": "https://localhost:8080/",
          "height": 82
        },
        "outputId": "842822fa-ed67-44bd-d5f9-c4c9a7d3dada"
      },
      "source": [
        "# Summary of covid 19 & non-covid related text\n",
        "# 0 is non covid-related tweets\n",
        "# 1 is covid-related tweets\n",
        "\n",
        "Covidtweet = dtrain_o.groupby('target').count()['text'].reset_index().sort_values(by='text',ascending=False)\n",
        "Covidtweet.style.background_gradient(cmap='Blues_r')"
      ],
      "execution_count": null,
      "outputs": [
        {
          "output_type": "execute_result",
          "data": {
            "text/html": [
              "<style  type=\"text/css\" >\n",
              "    #T_f4826a72_bf19_11ea_b06a_0242ac1c0002row0_col0 {\n",
              "            background-color:  #08306b;\n",
              "            color:  #f1f1f1;\n",
              "        }    #T_f4826a72_bf19_11ea_b06a_0242ac1c0002row0_col1 {\n",
              "            background-color:  #f7fbff;\n",
              "            color:  #000000;\n",
              "        }    #T_f4826a72_bf19_11ea_b06a_0242ac1c0002row1_col0 {\n",
              "            background-color:  #f7fbff;\n",
              "            color:  #000000;\n",
              "        }    #T_f4826a72_bf19_11ea_b06a_0242ac1c0002row1_col1 {\n",
              "            background-color:  #08306b;\n",
              "            color:  #f1f1f1;\n",
              "        }</style><table id=\"T_f4826a72_bf19_11ea_b06a_0242ac1c0002\" ><thead>    <tr>        <th class=\"blank level0\" ></th>        <th class=\"col_heading level0 col0\" >target</th>        <th class=\"col_heading level0 col1\" >text</th>    </tr></thead><tbody>\n",
              "                <tr>\n",
              "                        <th id=\"T_f4826a72_bf19_11ea_b06a_0242ac1c0002level0_row0\" class=\"row_heading level0 row0\" >0</th>\n",
              "                        <td id=\"T_f4826a72_bf19_11ea_b06a_0242ac1c0002row0_col0\" class=\"data row0 col0\" >0</td>\n",
              "                        <td id=\"T_f4826a72_bf19_11ea_b06a_0242ac1c0002row0_col1\" class=\"data row0 col1\" >2746</td>\n",
              "            </tr>\n",
              "            <tr>\n",
              "                        <th id=\"T_f4826a72_bf19_11ea_b06a_0242ac1c0002level0_row1\" class=\"row_heading level0 row1\" >1</th>\n",
              "                        <td id=\"T_f4826a72_bf19_11ea_b06a_0242ac1c0002row1_col0\" class=\"data row1 col0\" >1</td>\n",
              "                        <td id=\"T_f4826a72_bf19_11ea_b06a_0242ac1c0002row1_col1\" class=\"data row1 col1\" >2541</td>\n",
              "            </tr>\n",
              "    </tbody></table>"
            ],
            "text/plain": [
              "<pandas.io.formats.style.Styler at 0x7f0d395d7b38>"
            ]
          },
          "metadata": {
            "tags": []
          },
          "execution_count": 24
        }
      ]
    },
    {
      "cell_type": "code",
      "metadata": {
        "id": "FS8PhIOcJfg8",
        "colab_type": "code",
        "colab": {
          "base_uri": "https://localhost:8080/",
          "height": 514
        },
        "outputId": "674939ec-4714-467d-89ed-4b86c0c4f76a"
      },
      "source": [
        "# Plot of covid & non-covid  related tweets \n",
        "plt.figure(figsize=(10,8))\n",
        "\n",
        "sns.countplot(x=\"target\",data=dtrain_o)\n",
        "\n",
        "# Our target is balanced"
      ],
      "execution_count": null,
      "outputs": [
        {
          "output_type": "execute_result",
          "data": {
            "text/plain": [
              "<matplotlib.axes._subplots.AxesSubplot at 0x7f0d395d7ef0>"
            ]
          },
          "metadata": {
            "tags": []
          },
          "execution_count": 25
        },
        {
          "output_type": "display_data",
          "data": {
            "image/png": "[encoded data removed]",
            "text/plain": [
              "<Figure size 720x576 with 1 Axes>"
            ]
          },
          "metadata": {
            "tags": [],
            "needs_background": "light"
          }
        }
      ]
    },
    {
      "cell_type": "code",
      "metadata": {
        "id": "I4AQWxdZM3wa",
        "colab_type": "code",
        "colab": {
          "base_uri": "https://localhost:8080/",
          "height": 565
        },
        "outputId": "54ff767a-8ee2-4156-9f72-06ed2b3700f3"
      },
      "source": [
        "# Checking for the most common words\n",
        "\n",
        "from collections import Counter\n",
        "\n",
        "dtrain_o['Covidtweet_list'] = dtrain_o['text'].apply(lambda x:str(x).split())\n",
        "top = Counter([item for sublist in dtrain_o['Covidtweet_list'] for item in sublist])\n",
        "Covidtweet = pd.DataFrame(top.most_common(25))\n",
        "Covidtweet.columns = ['Common_words','count']\n",
        "Covidtweet.style.background_gradient(cmap='Reds')\n"
      ],
      "execution_count": null,
      "outputs": [
        {
          "output_type": "execute_result",
          "data": {
            "text/html": [
              "<style  type=\"text/css\" >\n",
              "    #T_f4a6519e_bf19_11ea_b06a_0242ac1c0002row0_col1 {\n",
              "            background-color:  #67000d;\n",
              "            color:  #f1f1f1;\n",
              "        }    #T_f4a6519e_bf19_11ea_b06a_0242ac1c0002row1_col1 {\n",
              "            background-color:  #dc2924;\n",
              "            color:  #f1f1f1;\n",
              "        }    #T_f4a6519e_bf19_11ea_b06a_0242ac1c0002row2_col1 {\n",
              "            background-color:  #fb6b4b;\n",
              "            color:  #000000;\n",
              "        }    #T_f4a6519e_bf19_11ea_b06a_0242ac1c0002row3_col1 {\n",
              "            background-color:  #fc7f5f;\n",
              "            color:  #000000;\n",
              "        }    #T_f4a6519e_bf19_11ea_b06a_0242ac1c0002row4_col1 {\n",
              "            background-color:  #fc8d6d;\n",
              "            color:  #000000;\n",
              "        }    #T_f4a6519e_bf19_11ea_b06a_0242ac1c0002row5_col1 {\n",
              "            background-color:  #fc997a;\n",
              "            color:  #000000;\n",
              "        }    #T_f4a6519e_bf19_11ea_b06a_0242ac1c0002row6_col1 {\n",
              "            background-color:  #fcbba1;\n",
              "            color:  #000000;\n",
              "        }    #T_f4a6519e_bf19_11ea_b06a_0242ac1c0002row7_col1 {\n",
              "            background-color:  #fcbda4;\n",
              "            color:  #000000;\n",
              "        }    #T_f4a6519e_bf19_11ea_b06a_0242ac1c0002row8_col1 {\n",
              "            background-color:  #fdd1be;\n",
              "            color:  #000000;\n",
              "        }    #T_f4a6519e_bf19_11ea_b06a_0242ac1c0002row9_col1 {\n",
              "            background-color:  #fdd5c4;\n",
              "            color:  #000000;\n",
              "        }    #T_f4a6519e_bf19_11ea_b06a_0242ac1c0002row10_col1 {\n",
              "            background-color:  #fedecf;\n",
              "            color:  #000000;\n",
              "        }    #T_f4a6519e_bf19_11ea_b06a_0242ac1c0002row11_col1 {\n",
              "            background-color:  #fee4d8;\n",
              "            color:  #000000;\n",
              "        }    #T_f4a6519e_bf19_11ea_b06a_0242ac1c0002row12_col1 {\n",
              "            background-color:  #fee5d8;\n",
              "            color:  #000000;\n",
              "        }    #T_f4a6519e_bf19_11ea_b06a_0242ac1c0002row13_col1 {\n",
              "            background-color:  #fee5d8;\n",
              "            color:  #000000;\n",
              "        }    #T_f4a6519e_bf19_11ea_b06a_0242ac1c0002row14_col1 {\n",
              "            background-color:  #fee8dd;\n",
              "            color:  #000000;\n",
              "        }    #T_f4a6519e_bf19_11ea_b06a_0242ac1c0002row15_col1 {\n",
              "            background-color:  #fee8de;\n",
              "            color:  #000000;\n",
              "        }    #T_f4a6519e_bf19_11ea_b06a_0242ac1c0002row16_col1 {\n",
              "            background-color:  #feeae0;\n",
              "            color:  #000000;\n",
              "        }    #T_f4a6519e_bf19_11ea_b06a_0242ac1c0002row17_col1 {\n",
              "            background-color:  #ffebe2;\n",
              "            color:  #000000;\n",
              "        }    #T_f4a6519e_bf19_11ea_b06a_0242ac1c0002row18_col1 {\n",
              "            background-color:  #ffeee7;\n",
              "            color:  #000000;\n",
              "        }    #T_f4a6519e_bf19_11ea_b06a_0242ac1c0002row19_col1 {\n",
              "            background-color:  #fff1ea;\n",
              "            color:  #000000;\n",
              "        }    #T_f4a6519e_bf19_11ea_b06a_0242ac1c0002row20_col1 {\n",
              "            background-color:  #fff2ec;\n",
              "            color:  #000000;\n",
              "        }    #T_f4a6519e_bf19_11ea_b06a_0242ac1c0002row21_col1 {\n",
              "            background-color:  #fff3ed;\n",
              "            color:  #000000;\n",
              "        }    #T_f4a6519e_bf19_11ea_b06a_0242ac1c0002row22_col1 {\n",
              "            background-color:  #fff3ed;\n",
              "            color:  #000000;\n",
              "        }    #T_f4a6519e_bf19_11ea_b06a_0242ac1c0002row23_col1 {\n",
              "            background-color:  #fff5f0;\n",
              "            color:  #000000;\n",
              "        }    #T_f4a6519e_bf19_11ea_b06a_0242ac1c0002row24_col1 {\n",
              "            background-color:  #fff5f0;\n",
              "            color:  #000000;\n",
              "        }</style><table id=\"T_f4a6519e_bf19_11ea_b06a_0242ac1c0002\" ><thead>    <tr>        <th class=\"blank level0\" ></th>        <th class=\"col_heading level0 col0\" >Common_words</th>        <th class=\"col_heading level0 col1\" >count</th>    </tr></thead><tbody>\n",
              "                <tr>\n",
              "                        <th id=\"T_f4a6519e_bf19_11ea_b06a_0242ac1c0002level0_row0\" class=\"row_heading level0 row0\" >0</th>\n",
              "                        <td id=\"T_f4a6519e_bf19_11ea_b06a_0242ac1c0002row0_col0\" class=\"data row0 col0\" >the</td>\n",
              "                        <td id=\"T_f4a6519e_bf19_11ea_b06a_0242ac1c0002row0_col1\" class=\"data row0 col1\" >4193</td>\n",
              "            </tr>\n",
              "            <tr>\n",
              "                        <th id=\"T_f4a6519e_bf19_11ea_b06a_0242ac1c0002level0_row1\" class=\"row_heading level0 row1\" >1</th>\n",
              "                        <td id=\"T_f4a6519e_bf19_11ea_b06a_0242ac1c0002row1_col0\" class=\"data row1 col0\" >to</td>\n",
              "                        <td id=\"T_f4a6519e_bf19_11ea_b06a_0242ac1c0002row1_col1\" class=\"data row1 col1\" >3026</td>\n",
              "            </tr>\n",
              "            <tr>\n",
              "                        <th id=\"T_f4a6519e_bf19_11ea_b06a_0242ac1c0002level0_row2\" class=\"row_heading level0 row2\" >2</th>\n",
              "                        <td id=\"T_f4a6519e_bf19_11ea_b06a_0242ac1c0002row2_col0\" class=\"data row2 col0\" >of</td>\n",
              "                        <td id=\"T_f4a6519e_bf19_11ea_b06a_0242ac1c0002row2_col1\" class=\"data row2 col1\" >2325</td>\n",
              "            </tr>\n",
              "            <tr>\n",
              "                        <th id=\"T_f4a6519e_bf19_11ea_b06a_0242ac1c0002level0_row3\" class=\"row_heading level0 row3\" >3</th>\n",
              "                        <td id=\"T_f4a6519e_bf19_11ea_b06a_0242ac1c0002row3_col0\" class=\"data row3 col0\" >and</td>\n",
              "                        <td id=\"T_f4a6519e_bf19_11ea_b06a_0242ac1c0002row3_col1\" class=\"data row3 col1\" >2078</td>\n",
              "            </tr>\n",
              "            <tr>\n",
              "                        <th id=\"T_f4a6519e_bf19_11ea_b06a_0242ac1c0002level0_row4\" class=\"row_heading level0 row4\" >4</th>\n",
              "                        <td id=\"T_f4a6519e_bf19_11ea_b06a_0242ac1c0002row4_col0\" class=\"data row4 col0\" >a</td>\n",
              "                        <td id=\"T_f4a6519e_bf19_11ea_b06a_0242ac1c0002row4_col1\" class=\"data row4 col1\" >1919</td>\n",
              "            </tr>\n",
              "            <tr>\n",
              "                        <th id=\"T_f4a6519e_bf19_11ea_b06a_0242ac1c0002level0_row5\" class=\"row_heading level0 row5\" >5</th>\n",
              "                        <td id=\"T_f4a6519e_bf19_11ea_b06a_0242ac1c0002row5_col0\" class=\"data row5 col0\" >in</td>\n",
              "                        <td id=\"T_f4a6519e_bf19_11ea_b06a_0242ac1c0002row5_col1\" class=\"data row5 col1\" >1775</td>\n",
              "            </tr>\n",
              "            <tr>\n",
              "                        <th id=\"T_f4a6519e_bf19_11ea_b06a_0242ac1c0002level0_row6\" class=\"row_heading level0 row6\" >6</th>\n",
              "                        <td id=\"T_f4a6519e_bf19_11ea_b06a_0242ac1c0002row6_col0\" class=\"data row6 col0\" >is</td>\n",
              "                        <td id=\"T_f4a6519e_bf19_11ea_b06a_0242ac1c0002row6_col1\" class=\"data row6 col1\" >1406</td>\n",
              "            </tr>\n",
              "            <tr>\n",
              "                        <th id=\"T_f4a6519e_bf19_11ea_b06a_0242ac1c0002level0_row7\" class=\"row_heading level0 row7\" >7</th>\n",
              "                        <td id=\"T_f4a6519e_bf19_11ea_b06a_0242ac1c0002row7_col0\" class=\"data row7 col0\" >for</td>\n",
              "                        <td id=\"T_f4a6519e_bf19_11ea_b06a_0242ac1c0002row7_col1\" class=\"data row7 col1\" >1375</td>\n",
              "            </tr>\n",
              "            <tr>\n",
              "                        <th id=\"T_f4a6519e_bf19_11ea_b06a_0242ac1c0002level0_row8\" class=\"row_heading level0 row8\" >8</th>\n",
              "                        <td id=\"T_f4a6519e_bf19_11ea_b06a_0242ac1c0002row8_col0\" class=\"data row8 col0\" >i</td>\n",
              "                        <td id=\"T_f4a6519e_bf19_11ea_b06a_0242ac1c0002row8_col1\" class=\"data row8 col1\" >1116</td>\n",
              "            </tr>\n",
              "            <tr>\n",
              "                        <th id=\"T_f4a6519e_bf19_11ea_b06a_0242ac1c0002level0_row9\" class=\"row_heading level0 row9\" >9</th>\n",
              "                        <td id=\"T_f4a6519e_bf19_11ea_b06a_0242ac1c0002row9_col0\" class=\"data row9 col0\" >s</td>\n",
              "                        <td id=\"T_f4a6519e_bf19_11ea_b06a_0242ac1c0002row9_col1\" class=\"data row9 col1\" >1060</td>\n",
              "            </tr>\n",
              "            <tr>\n",
              "                        <th id=\"T_f4a6519e_bf19_11ea_b06a_0242ac1c0002level0_row10\" class=\"row_heading level0 row10\" >10</th>\n",
              "                        <td id=\"T_f4a6519e_bf19_11ea_b06a_0242ac1c0002row10_col0\" class=\"data row10 col0\" >you</td>\n",
              "                        <td id=\"T_f4a6519e_bf19_11ea_b06a_0242ac1c0002row10_col1\" class=\"data row10 col1\" >968</td>\n",
              "            </tr>\n",
              "            <tr>\n",
              "                        <th id=\"T_f4a6519e_bf19_11ea_b06a_0242ac1c0002level0_row11\" class=\"row_heading level0 row11\" >11</th>\n",
              "                        <td id=\"T_f4a6519e_bf19_11ea_b06a_0242ac1c0002row11_col0\" class=\"data row11 col0\" >it</td>\n",
              "                        <td id=\"T_f4a6519e_bf19_11ea_b06a_0242ac1c0002row11_col1\" class=\"data row11 col1\" >846</td>\n",
              "            </tr>\n",
              "            <tr>\n",
              "                        <th id=\"T_f4a6519e_bf19_11ea_b06a_0242ac1c0002level0_row12\" class=\"row_heading level0 row12\" >12</th>\n",
              "                        <td id=\"T_f4a6519e_bf19_11ea_b06a_0242ac1c0002row12_col0\" class=\"data row12 col0\" >this</td>\n",
              "                        <td id=\"T_f4a6519e_bf19_11ea_b06a_0242ac1c0002row12_col1\" class=\"data row12 col1\" >837</td>\n",
              "            </tr>\n",
              "            <tr>\n",
              "                        <th id=\"T_f4a6519e_bf19_11ea_b06a_0242ac1c0002level0_row13\" class=\"row_heading level0 row13\" >13</th>\n",
              "                        <td id=\"T_f4a6519e_bf19_11ea_b06a_0242ac1c0002row13_col0\" class=\"data row13 col0\" >on</td>\n",
              "                        <td id=\"T_f4a6519e_bf19_11ea_b06a_0242ac1c0002row13_col1\" class=\"data row13 col1\" >834</td>\n",
              "            </tr>\n",
              "            <tr>\n",
              "                        <th id=\"T_f4a6519e_bf19_11ea_b06a_0242ac1c0002level0_row14\" class=\"row_heading level0 row14\" >14</th>\n",
              "                        <td id=\"T_f4a6519e_bf19_11ea_b06a_0242ac1c0002row14_col0\" class=\"data row14 col0\" >that</td>\n",
              "                        <td id=\"T_f4a6519e_bf19_11ea_b06a_0242ac1c0002row14_col1\" class=\"data row14 col1\" >757</td>\n",
              "            </tr>\n",
              "            <tr>\n",
              "                        <th id=\"T_f4a6519e_bf19_11ea_b06a_0242ac1c0002level0_row15\" class=\"row_heading level0 row15\" >15</th>\n",
              "                        <td id=\"T_f4a6519e_bf19_11ea_b06a_0242ac1c0002row15_col0\" class=\"data row15 col0\" >ramadan</td>\n",
              "                        <td id=\"T_f4a6519e_bf19_11ea_b06a_0242ac1c0002row15_col1\" class=\"data row15 col1\" >741</td>\n",
              "            </tr>\n",
              "            <tr>\n",
              "                        <th id=\"T_f4a6519e_bf19_11ea_b06a_0242ac1c0002level0_row16\" class=\"row_heading level0 row16\" >16</th>\n",
              "                        <td id=\"T_f4a6519e_bf19_11ea_b06a_0242ac1c0002row16_col0\" class=\"data row16 col0\" >with</td>\n",
              "                        <td id=\"T_f4a6519e_bf19_11ea_b06a_0242ac1c0002row16_col1\" class=\"data row16 col1\" >720</td>\n",
              "            </tr>\n",
              "            <tr>\n",
              "                        <th id=\"T_f4a6519e_bf19_11ea_b06a_0242ac1c0002level0_row17\" class=\"row_heading level0 row17\" >17</th>\n",
              "                        <td id=\"T_f4a6519e_bf19_11ea_b06a_0242ac1c0002row17_col0\" class=\"data row17 col0\" >are</td>\n",
              "                        <td id=\"T_f4a6519e_bf19_11ea_b06a_0242ac1c0002row17_col1\" class=\"data row17 col1\" >688</td>\n",
              "            </tr>\n",
              "            <tr>\n",
              "                        <th id=\"T_f4a6519e_bf19_11ea_b06a_0242ac1c0002level0_row18\" class=\"row_heading level0 row18\" >18</th>\n",
              "                        <td id=\"T_f4a6519e_bf19_11ea_b06a_0242ac1c0002row18_col0\" class=\"data row18 col0\" >we</td>\n",
              "                        <td id=\"T_f4a6519e_bf19_11ea_b06a_0242ac1c0002row18_col1\" class=\"data row18 col1\" >610</td>\n",
              "            </tr>\n",
              "            <tr>\n",
              "                        <th id=\"T_f4a6519e_bf19_11ea_b06a_0242ac1c0002level0_row19\" class=\"row_heading level0 row19\" >19</th>\n",
              "                        <td id=\"T_f4a6519e_bf19_11ea_b06a_0242ac1c0002row19_col0\" class=\"data row19 col0\" >from</td>\n",
              "                        <td id=\"T_f4a6519e_bf19_11ea_b06a_0242ac1c0002row19_col1\" class=\"data row19 col1\" >546</td>\n",
              "            </tr>\n",
              "            <tr>\n",
              "                        <th id=\"T_f4a6519e_bf19_11ea_b06a_0242ac1c0002level0_row20\" class=\"row_heading level0 row20\" >20</th>\n",
              "                        <td id=\"T_f4a6519e_bf19_11ea_b06a_0242ac1c0002row20_col0\" class=\"data row20 col0\" >as</td>\n",
              "                        <td id=\"T_f4a6519e_bf19_11ea_b06a_0242ac1c0002row20_col1\" class=\"data row20 col1\" >519</td>\n",
              "            </tr>\n",
              "            <tr>\n",
              "                        <th id=\"T_f4a6519e_bf19_11ea_b06a_0242ac1c0002level0_row21\" class=\"row_heading level0 row21\" >21</th>\n",
              "                        <td id=\"T_f4a6519e_bf19_11ea_b06a_0242ac1c0002row21_col0\" class=\"data row21 col0\" >be</td>\n",
              "                        <td id=\"T_f4a6519e_bf19_11ea_b06a_0242ac1c0002row21_col1\" class=\"data row21 col1\" >507</td>\n",
              "            </tr>\n",
              "            <tr>\n",
              "                        <th id=\"T_f4a6519e_bf19_11ea_b06a_0242ac1c0002level0_row22\" class=\"row_heading level0 row22\" >22</th>\n",
              "                        <td id=\"T_f4a6519e_bf19_11ea_b06a_0242ac1c0002row22_col0\" class=\"data row22 col0\" >have</td>\n",
              "                        <td id=\"T_f4a6519e_bf19_11ea_b06a_0242ac1c0002row22_col1\" class=\"data row22 col1\" >502</td>\n",
              "            </tr>\n",
              "            <tr>\n",
              "                        <th id=\"T_f4a6519e_bf19_11ea_b06a_0242ac1c0002level0_row23\" class=\"row_heading level0 row23\" >23</th>\n",
              "                        <td id=\"T_f4a6519e_bf19_11ea_b06a_0242ac1c0002row23_col0\" class=\"data row23 col0\" >at</td>\n",
              "                        <td id=\"T_f4a6519e_bf19_11ea_b06a_0242ac1c0002row23_col1\" class=\"data row23 col1\" >461</td>\n",
              "            </tr>\n",
              "            <tr>\n",
              "                        <th id=\"T_f4a6519e_bf19_11ea_b06a_0242ac1c0002level0_row24\" class=\"row_heading level0 row24\" >24</th>\n",
              "                        <td id=\"T_f4a6519e_bf19_11ea_b06a_0242ac1c0002row24_col0\" class=\"data row24 col0\" >t</td>\n",
              "                        <td id=\"T_f4a6519e_bf19_11ea_b06a_0242ac1c0002row24_col1\" class=\"data row24 col1\" >458</td>\n",
              "            </tr>\n",
              "    </tbody></table>"
            ],
            "text/plain": [
              "<pandas.io.formats.style.Styler at 0x7f0d3863a208>"
            ]
          },
          "metadata": {
            "tags": []
          },
          "execution_count": 26
        }
      ]
    },
    {
      "cell_type": "markdown",
      "metadata": {
        "id": "JLKzQOO8NJkr",
        "colab_type": "text"
      },
      "source": [
        "From the plot above,we can infer that our data is distributed equally"
      ]
    },
    {
      "cell_type": "markdown",
      "metadata": {
        "id": "6QbzoWbxR2RL",
        "colab_type": "text"
      },
      "source": [
        "The most common words were mainly articles and connecting words"
      ]
    },
    {
      "cell_type": "markdown",
      "metadata": {
        "id": "8Uu8S9XWSXAX",
        "colab_type": "text"
      },
      "source": [
        "### Removing stop words"
      ]
    },
    {
      "cell_type": "markdown",
      "metadata": {
        "id": "3jtPoSLRSgTY",
        "colab_type": "text"
      },
      "source": [
        "Stop words in NLP are words that are filtered out before or after processing of NLP data e.g \"to\",\"the\".Search engines are programmed to ignore,both when indexing entries for searching and when retrieving them as a result of a search query"
      ]
    },
    {
      "cell_type": "code",
      "metadata": {
        "id": "3_22Kmt9XWbs",
        "colab_type": "code",
        "colab": {}
      },
      "source": [
        "# Defining stopwords\n",
        "STOPWORDS = set(stopwords.words(\"english\"))"
      ],
      "execution_count": null,
      "outputs": []
    },
    {
      "cell_type": "code",
      "metadata": {
        "id": "Tx3f70oAUgWW",
        "colab_type": "code",
        "colab": {}
      },
      "source": [
        "def remove_stopword(x):\n",
        "    return [y for y in x if y not in stopwords.words('english')]\n",
        "dtrain_o['Covidtweet_list'] = dtrain_o['Covidtweet_list'].apply(lambda x:remove_stopword(x))"
      ],
      "execution_count": null,
      "outputs": []
    },
    {
      "cell_type": "code",
      "metadata": {
        "id": "t5xSsM8uY2HV",
        "colab_type": "code",
        "colab": {
          "base_uri": "https://localhost:8080/",
          "height": 565
        },
        "outputId": "6bc1bd2d-9fc6-4add-eaf6-976058bb5b31"
      },
      "source": [
        "dtrain_o['Covidtweet_list1'] = dtrain_o['Covidtweet_list'].apply(lambda x:str(x).split())\n",
        "top = Counter([item for sublist in dtrain_o['Covidtweet_list'] for item in sublist])\n",
        "Covidtweet = pd.DataFrame(top.most_common(25))\n",
        "Covidtweet.columns = ['Common_words','count']\n",
        "Covidtweet.style.background_gradient(cmap='Reds')"
      ],
      "execution_count": null,
      "outputs": [
        {
          "output_type": "execute_result",
          "data": {
            "text/html": [
              "<style  type=\"text/css\" >\n",
              "    #T_fa632dd2_bf19_11ea_b06a_0242ac1c0002row0_col1 {\n",
              "            background-color:  #67000d;\n",
              "            color:  #f1f1f1;\n",
              "        }    #T_fa632dd2_bf19_11ea_b06a_0242ac1c0002row1_col1 {\n",
              "            background-color:  #fb7d5d;\n",
              "            color:  #000000;\n",
              "        }    #T_fa632dd2_bf19_11ea_b06a_0242ac1c0002row2_col1 {\n",
              "            background-color:  #fca689;\n",
              "            color:  #000000;\n",
              "        }    #T_fa632dd2_bf19_11ea_b06a_0242ac1c0002row3_col1 {\n",
              "            background-color:  #fcb499;\n",
              "            color:  #000000;\n",
              "        }    #T_fa632dd2_bf19_11ea_b06a_0242ac1c0002row4_col1 {\n",
              "            background-color:  #fcbea5;\n",
              "            color:  #000000;\n",
              "        }    #T_fa632dd2_bf19_11ea_b06a_0242ac1c0002row5_col1 {\n",
              "            background-color:  #fdccb8;\n",
              "            color:  #000000;\n",
              "        }    #T_fa632dd2_bf19_11ea_b06a_0242ac1c0002row6_col1 {\n",
              "            background-color:  #fdcdb9;\n",
              "            color:  #000000;\n",
              "        }    #T_fa632dd2_bf19_11ea_b06a_0242ac1c0002row7_col1 {\n",
              "            background-color:  #fdcebb;\n",
              "            color:  #000000;\n",
              "        }    #T_fa632dd2_bf19_11ea_b06a_0242ac1c0002row8_col1 {\n",
              "            background-color:  #fdd1be;\n",
              "            color:  #000000;\n",
              "        }    #T_fa632dd2_bf19_11ea_b06a_0242ac1c0002row9_col1 {\n",
              "            background-color:  #fdd1be;\n",
              "            color:  #000000;\n",
              "        }    #T_fa632dd2_bf19_11ea_b06a_0242ac1c0002row10_col1 {\n",
              "            background-color:  #fdd5c4;\n",
              "            color:  #000000;\n",
              "        }    #T_fa632dd2_bf19_11ea_b06a_0242ac1c0002row11_col1 {\n",
              "            background-color:  #fed9c9;\n",
              "            color:  #000000;\n",
              "        }    #T_fa632dd2_bf19_11ea_b06a_0242ac1c0002row12_col1 {\n",
              "            background-color:  #fedbcc;\n",
              "            color:  #000000;\n",
              "        }    #T_fa632dd2_bf19_11ea_b06a_0242ac1c0002row13_col1 {\n",
              "            background-color:  #fee5d8;\n",
              "            color:  #000000;\n",
              "        }    #T_fa632dd2_bf19_11ea_b06a_0242ac1c0002row14_col1 {\n",
              "            background-color:  #fee6da;\n",
              "            color:  #000000;\n",
              "        }    #T_fa632dd2_bf19_11ea_b06a_0242ac1c0002row15_col1 {\n",
              "            background-color:  #fee6da;\n",
              "            color:  #000000;\n",
              "        }    #T_fa632dd2_bf19_11ea_b06a_0242ac1c0002row16_col1 {\n",
              "            background-color:  #fee7db;\n",
              "            color:  #000000;\n",
              "        }    #T_fa632dd2_bf19_11ea_b06a_0242ac1c0002row17_col1 {\n",
              "            background-color:  #fee9df;\n",
              "            color:  #000000;\n",
              "        }    #T_fa632dd2_bf19_11ea_b06a_0242ac1c0002row18_col1 {\n",
              "            background-color:  #ffede5;\n",
              "            color:  #000000;\n",
              "        }    #T_fa632dd2_bf19_11ea_b06a_0242ac1c0002row19_col1 {\n",
              "            background-color:  #ffeee6;\n",
              "            color:  #000000;\n",
              "        }    #T_fa632dd2_bf19_11ea_b06a_0242ac1c0002row20_col1 {\n",
              "            background-color:  #ffefe8;\n",
              "            color:  #000000;\n",
              "        }    #T_fa632dd2_bf19_11ea_b06a_0242ac1c0002row21_col1 {\n",
              "            background-color:  #fff3ed;\n",
              "            color:  #000000;\n",
              "        }    #T_fa632dd2_bf19_11ea_b06a_0242ac1c0002row22_col1 {\n",
              "            background-color:  #fff3ed;\n",
              "            color:  #000000;\n",
              "        }    #T_fa632dd2_bf19_11ea_b06a_0242ac1c0002row23_col1 {\n",
              "            background-color:  #fff5f0;\n",
              "            color:  #000000;\n",
              "        }    #T_fa632dd2_bf19_11ea_b06a_0242ac1c0002row24_col1 {\n",
              "            background-color:  #fff5f0;\n",
              "            color:  #000000;\n",
              "        }</style><table id=\"T_fa632dd2_bf19_11ea_b06a_0242ac1c0002\" ><thead>    <tr>        <th class=\"blank level0\" ></th>        <th class=\"col_heading level0 col0\" >Common_words</th>        <th class=\"col_heading level0 col1\" >count</th>    </tr></thead><tbody>\n",
              "                <tr>\n",
              "                        <th id=\"T_fa632dd2_bf19_11ea_b06a_0242ac1c0002level0_row0\" class=\"row_heading level0 row0\" >0</th>\n",
              "                        <td id=\"T_fa632dd2_bf19_11ea_b06a_0242ac1c0002row0_col0\" class=\"data row0 col0\" >ramadan</td>\n",
              "                        <td id=\"T_fa632dd2_bf19_11ea_b06a_0242ac1c0002row0_col1\" class=\"data row0 col1\" >741</td>\n",
              "            </tr>\n",
              "            <tr>\n",
              "                        <th id=\"T_fa632dd2_bf19_11ea_b06a_0242ac1c0002level0_row1\" class=\"row_heading level0 row1\" >1</th>\n",
              "                        <td id=\"T_fa632dd2_bf19_11ea_b06a_0242ac1c0002row1_col0\" class=\"data row1 col0\" >sports</td>\n",
              "                        <td id=\"T_fa632dd2_bf19_11ea_b06a_0242ac1c0002row1_col1\" class=\"data row1 col1\" >403</td>\n",
              "            </tr>\n",
              "            <tr>\n",
              "                        <th id=\"T_fa632dd2_bf19_11ea_b06a_0242ac1c0002level0_row2\" class=\"row_heading level0 row2\" >2</th>\n",
              "                        <td id=\"T_fa632dd2_bf19_11ea_b06a_0242ac1c0002row2_col0\" class=\"data row2 col0\" >amp</td>\n",
              "                        <td id=\"T_fa632dd2_bf19_11ea_b06a_0242ac1c0002row2_col1\" class=\"data row2 col1\" >328</td>\n",
              "            </tr>\n",
              "            <tr>\n",
              "                        <th id=\"T_fa632dd2_bf19_11ea_b06a_0242ac1c0002level0_row3\" class=\"row_heading level0 row3\" >3</th>\n",
              "                        <td id=\"T_fa632dd2_bf19_11ea_b06a_0242ac1c0002row3_col0\" class=\"data row3 col0\" >people</td>\n",
              "                        <td id=\"T_fa632dd2_bf19_11ea_b06a_0242ac1c0002row3_col1\" class=\"data row3 col1\" >301</td>\n",
              "            </tr>\n",
              "            <tr>\n",
              "                        <th id=\"T_fa632dd2_bf19_11ea_b06a_0242ac1c0002level0_row4\" class=\"row_heading level0 row4\" >4</th>\n",
              "                        <td id=\"T_fa632dd2_bf19_11ea_b06a_0242ac1c0002row4_col0\" class=\"data row4 col0\" >us</td>\n",
              "                        <td id=\"T_fa632dd2_bf19_11ea_b06a_0242ac1c0002row4_col1\" class=\"data row4 col1\" >282</td>\n",
              "            </tr>\n",
              "            <tr>\n",
              "                        <th id=\"T_fa632dd2_bf19_11ea_b06a_0242ac1c0002level0_row5\" class=\"row_heading level0 row5\" >5</th>\n",
              "                        <td id=\"T_fa632dd2_bf19_11ea_b06a_0242ac1c0002row5_col0\" class=\"data row5 col0\" >twitter</td>\n",
              "                        <td id=\"T_fa632dd2_bf19_11ea_b06a_0242ac1c0002row5_col1\" class=\"data row5 col1\" >253</td>\n",
              "            </tr>\n",
              "            <tr>\n",
              "                        <th id=\"T_fa632dd2_bf19_11ea_b06a_0242ac1c0002level0_row6\" class=\"row_heading level0 row6\" >6</th>\n",
              "                        <td id=\"T_fa632dd2_bf19_11ea_b06a_0242ac1c0002row6_col0\" class=\"data row6 col0\" >new</td>\n",
              "                        <td id=\"T_fa632dd2_bf19_11ea_b06a_0242ac1c0002row6_col1\" class=\"data row6 col1\" >252</td>\n",
              "            </tr>\n",
              "            <tr>\n",
              "                        <th id=\"T_fa632dd2_bf19_11ea_b06a_0242ac1c0002level0_row7\" class=\"row_heading level0 row7\" >7</th>\n",
              "                        <td id=\"T_fa632dd2_bf19_11ea_b06a_0242ac1c0002row7_col0\" class=\"data row7 col0\" >com</td>\n",
              "                        <td id=\"T_fa632dd2_bf19_11ea_b06a_0242ac1c0002row7_col1\" class=\"data row7 col1\" >250</td>\n",
              "            </tr>\n",
              "            <tr>\n",
              "                        <th id=\"T_fa632dd2_bf19_11ea_b06a_0242ac1c0002level0_row8\" class=\"row_heading level0 row8\" >8</th>\n",
              "                        <td id=\"T_fa632dd2_bf19_11ea_b06a_0242ac1c0002row8_col0\" class=\"data row8 col0\" >one</td>\n",
              "                        <td id=\"T_fa632dd2_bf19_11ea_b06a_0242ac1c0002row8_col1\" class=\"data row8 col1\" >245</td>\n",
              "            </tr>\n",
              "            <tr>\n",
              "                        <th id=\"T_fa632dd2_bf19_11ea_b06a_0242ac1c0002level0_row9\" class=\"row_heading level0 row9\" >9</th>\n",
              "                        <td id=\"T_fa632dd2_bf19_11ea_b06a_0242ac1c0002row9_col0\" class=\"data row9 col0\" >python</td>\n",
              "                        <td id=\"T_fa632dd2_bf19_11ea_b06a_0242ac1c0002row9_col1\" class=\"data row9 col1\" >244</td>\n",
              "            </tr>\n",
              "            <tr>\n",
              "                        <th id=\"T_fa632dd2_bf19_11ea_b06a_0242ac1c0002level0_row10\" class=\"row_heading level0 row10\" >10</th>\n",
              "                        <td id=\"T_fa632dd2_bf19_11ea_b06a_0242ac1c0002row10_col0\" class=\"data row10 col0\" >pic</td>\n",
              "                        <td id=\"T_fa632dd2_bf19_11ea_b06a_0242ac1c0002row10_col1\" class=\"data row10 col1\" >234</td>\n",
              "            </tr>\n",
              "            <tr>\n",
              "                        <th id=\"T_fa632dd2_bf19_11ea_b06a_0242ac1c0002level0_row11\" class=\"row_heading level0 row11\" >11</th>\n",
              "                        <td id=\"T_fa632dd2_bf19_11ea_b06a_0242ac1c0002row11_col0\" class=\"data row11 col0\" >like</td>\n",
              "                        <td id=\"T_fa632dd2_bf19_11ea_b06a_0242ac1c0002row11_col1\" class=\"data row11 col1\" >227</td>\n",
              "            </tr>\n",
              "            <tr>\n",
              "                        <th id=\"T_fa632dd2_bf19_11ea_b06a_0242ac1c0002level0_row12\" class=\"row_heading level0 row12\" >12</th>\n",
              "                        <td id=\"T_fa632dd2_bf19_11ea_b06a_0242ac1c0002row12_col0\" class=\"data row12 col0\" >mercyofallah</td>\n",
              "                        <td id=\"T_fa632dd2_bf19_11ea_b06a_0242ac1c0002row12_col1\" class=\"data row12 col1\" >224</td>\n",
              "            </tr>\n",
              "            <tr>\n",
              "                        <th id=\"T_fa632dd2_bf19_11ea_b06a_0242ac1c0002level0_row13\" class=\"row_heading level0 row13\" >13</th>\n",
              "                        <td id=\"T_fa632dd2_bf19_11ea_b06a_0242ac1c0002row13_col0\" class=\"data row13 col0\" >food</td>\n",
              "                        <td id=\"T_fa632dd2_bf19_11ea_b06a_0242ac1c0002row13_col1\" class=\"data row13 col1\" >196</td>\n",
              "            </tr>\n",
              "            <tr>\n",
              "                        <th id=\"T_fa632dd2_bf19_11ea_b06a_0242ac1c0002level0_row14\" class=\"row_heading level0 row14\" >14</th>\n",
              "                        <td id=\"T_fa632dd2_bf19_11ea_b06a_0242ac1c0002row14_col0\" class=\"data row14 col0\" >time</td>\n",
              "                        <td id=\"T_fa632dd2_bf19_11ea_b06a_0242ac1c0002row14_col1\" class=\"data row14 col1\" >193</td>\n",
              "            </tr>\n",
              "            <tr>\n",
              "                        <th id=\"T_fa632dd2_bf19_11ea_b06a_0242ac1c0002level0_row15\" class=\"row_heading level0 row15\" >15</th>\n",
              "                        <td id=\"T_fa632dd2_bf19_11ea_b06a_0242ac1c0002row15_col0\" class=\"data row15 col0\" >month</td>\n",
              "                        <td id=\"T_fa632dd2_bf19_11ea_b06a_0242ac1c0002row15_col1\" class=\"data row15 col1\" >192</td>\n",
              "            </tr>\n",
              "            <tr>\n",
              "                        <th id=\"T_fa632dd2_bf19_11ea_b06a_0242ac1c0002level0_row16\" class=\"row_heading level0 row16\" >16</th>\n",
              "                        <td id=\"T_fa632dd2_bf19_11ea_b06a_0242ac1c0002row16_col0\" class=\"data row16 col0\" >get</td>\n",
              "                        <td id=\"T_fa632dd2_bf19_11ea_b06a_0242ac1c0002row16_col1\" class=\"data row16 col1\" >191</td>\n",
              "            </tr>\n",
              "            <tr>\n",
              "                        <th id=\"T_fa632dd2_bf19_11ea_b06a_0242ac1c0002level0_row17\" class=\"row_heading level0 row17\" >17</th>\n",
              "                        <td id=\"T_fa632dd2_bf19_11ea_b06a_0242ac1c0002row17_col0\" class=\"data row17 col0\" >day</td>\n",
              "                        <td id=\"T_fa632dd2_bf19_11ea_b06a_0242ac1c0002row17_col1\" class=\"data row17 col1\" >180</td>\n",
              "            </tr>\n",
              "            <tr>\n",
              "                        <th id=\"T_fa632dd2_bf19_11ea_b06a_0242ac1c0002level0_row18\" class=\"row_heading level0 row18\" >18</th>\n",
              "                        <td id=\"T_fa632dd2_bf19_11ea_b06a_0242ac1c0002row18_col0\" class=\"data row18 col0\" >learning</td>\n",
              "                        <td id=\"T_fa632dd2_bf19_11ea_b06a_0242ac1c0002row18_col1\" class=\"data row18 col1\" >166</td>\n",
              "            </tr>\n",
              "            <tr>\n",
              "                        <th id=\"T_fa632dd2_bf19_11ea_b06a_0242ac1c0002level0_row19\" class=\"row_heading level0 row19\" >19</th>\n",
              "                        <td id=\"T_fa632dd2_bf19_11ea_b06a_0242ac1c0002row19_col0\" class=\"data row19 col0\" >may</td>\n",
              "                        <td id=\"T_fa632dd2_bf19_11ea_b06a_0242ac1c0002row19_col1\" class=\"data row19 col1\" >165</td>\n",
              "            </tr>\n",
              "            <tr>\n",
              "                        <th id=\"T_fa632dd2_bf19_11ea_b06a_0242ac1c0002level0_row20\" class=\"row_heading level0 row20\" >20</th>\n",
              "                        <td id=\"T_fa632dd2_bf19_11ea_b06a_0242ac1c0002row20_col0\" class=\"data row20 col0\" >allah</td>\n",
              "                        <td id=\"T_fa632dd2_bf19_11ea_b06a_0242ac1c0002row20_col1\" class=\"data row20 col1\" >160</td>\n",
              "            </tr>\n",
              "            <tr>\n",
              "                        <th id=\"T_fa632dd2_bf19_11ea_b06a_0242ac1c0002level0_row21\" class=\"row_heading level0 row21\" >21</th>\n",
              "                        <td id=\"T_fa632dd2_bf19_11ea_b06a_0242ac1c0002row21_col0\" class=\"data row21 col0\" >today</td>\n",
              "                        <td id=\"T_fa632dd2_bf19_11ea_b06a_0242ac1c0002row21_col1\" class=\"data row21 col1\" >146</td>\n",
              "            </tr>\n",
              "            <tr>\n",
              "                        <th id=\"T_fa632dd2_bf19_11ea_b06a_0242ac1c0002level0_row22\" class=\"row_heading level0 row22\" >22</th>\n",
              "                        <td id=\"T_fa632dd2_bf19_11ea_b06a_0242ac1c0002row22_col0\" class=\"data row22 col0\" >need</td>\n",
              "                        <td id=\"T_fa632dd2_bf19_11ea_b06a_0242ac1c0002row22_col1\" class=\"data row22 col1\" >145</td>\n",
              "            </tr>\n",
              "            <tr>\n",
              "                        <th id=\"T_fa632dd2_bf19_11ea_b06a_0242ac1c0002level0_row23\" class=\"row_heading level0 row23\" >23</th>\n",
              "                        <td id=\"T_fa632dd2_bf19_11ea_b06a_0242ac1c0002row23_col0\" class=\"data row23 col0\" >help</td>\n",
              "                        <td id=\"T_fa632dd2_bf19_11ea_b06a_0242ac1c0002row23_col1\" class=\"data row23 col1\" >137</td>\n",
              "            </tr>\n",
              "            <tr>\n",
              "                        <th id=\"T_fa632dd2_bf19_11ea_b06a_0242ac1c0002level0_row24\" class=\"row_heading level0 row24\" >24</th>\n",
              "                        <td id=\"T_fa632dd2_bf19_11ea_b06a_0242ac1c0002row24_col0\" class=\"data row24 col0\" >pandemic</td>\n",
              "                        <td id=\"T_fa632dd2_bf19_11ea_b06a_0242ac1c0002row24_col1\" class=\"data row24 col1\" >137</td>\n",
              "            </tr>\n",
              "    </tbody></table>"
            ],
            "text/plain": [
              "<pandas.io.formats.style.Styler at 0x7f0d3863a0f0>"
            ]
          },
          "metadata": {
            "tags": []
          },
          "execution_count": 29
        }
      ]
    },
    {
      "cell_type": "code",
      "metadata": {
        "id": "wxay5ensZBKL",
        "colab_type": "code",
        "colab": {}
      },
      "source": [
        "Covid_p = dtrain_o[dtrain_o['target']== 1]\n",
        "Covid_n = dtrain_o[dtrain_o['target']== 0]"
      ],
      "execution_count": null,
      "outputs": []
    },
    {
      "cell_type": "code",
      "metadata": {
        "id": "bBR2E6P4evJh",
        "colab_type": "code",
        "colab": {
          "base_uri": "https://localhost:8080/",
          "height": 460
        },
        "outputId": "0a5efa29-e761-4ecb-c511-7f9da4513ac3"
      },
      "source": [
        "# Most related words to covid 19\n",
        "top = Counter([item for sublist in Covid_p['Covidtweet_list'] for item in sublist])\n",
        "Covid_positive = pd.DataFrame(top.most_common(20))\n",
        "Covid_positive.columns = ['Common_words','count']\n",
        "Covid_positive.style.background_gradient(cmap='Purples')"
      ],
      "execution_count": null,
      "outputs": [
        {
          "output_type": "execute_result",
          "data": {
            "text/html": [
              "<style  type=\"text/css\" >\n",
              "    #T_fa6e1a76_bf19_11ea_b06a_0242ac1c0002row0_col1 {\n",
              "            background-color:  #3f007d;\n",
              "            color:  #f1f1f1;\n",
              "        }    #T_fa6e1a76_bf19_11ea_b06a_0242ac1c0002row1_col1 {\n",
              "            background-color:  #6c54a5;\n",
              "            color:  #f1f1f1;\n",
              "        }    #T_fa6e1a76_bf19_11ea_b06a_0242ac1c0002row2_col1 {\n",
              "            background-color:  #7566ae;\n",
              "            color:  #000000;\n",
              "        }    #T_fa6e1a76_bf19_11ea_b06a_0242ac1c0002row3_col1 {\n",
              "            background-color:  #bcbddc;\n",
              "            color:  #000000;\n",
              "        }    #T_fa6e1a76_bf19_11ea_b06a_0242ac1c0002row4_col1 {\n",
              "            background-color:  #c7c8e1;\n",
              "            color:  #000000;\n",
              "        }    #T_fa6e1a76_bf19_11ea_b06a_0242ac1c0002row5_col1 {\n",
              "            background-color:  #ddddec;\n",
              "            color:  #000000;\n",
              "        }    #T_fa6e1a76_bf19_11ea_b06a_0242ac1c0002row6_col1 {\n",
              "            background-color:  #e0e0ee;\n",
              "            color:  #000000;\n",
              "        }    #T_fa6e1a76_bf19_11ea_b06a_0242ac1c0002row7_col1 {\n",
              "            background-color:  #e1e0ee;\n",
              "            color:  #000000;\n",
              "        }    #T_fa6e1a76_bf19_11ea_b06a_0242ac1c0002row8_col1 {\n",
              "            background-color:  #e9e8f2;\n",
              "            color:  #000000;\n",
              "        }    #T_fa6e1a76_bf19_11ea_b06a_0242ac1c0002row9_col1 {\n",
              "            background-color:  #eeecf4;\n",
              "            color:  #000000;\n",
              "        }    #T_fa6e1a76_bf19_11ea_b06a_0242ac1c0002row10_col1 {\n",
              "            background-color:  #f1eff6;\n",
              "            color:  #000000;\n",
              "        }    #T_fa6e1a76_bf19_11ea_b06a_0242ac1c0002row11_col1 {\n",
              "            background-color:  #f4f3f8;\n",
              "            color:  #000000;\n",
              "        }    #T_fa6e1a76_bf19_11ea_b06a_0242ac1c0002row12_col1 {\n",
              "            background-color:  #f5f4f9;\n",
              "            color:  #000000;\n",
              "        }    #T_fa6e1a76_bf19_11ea_b06a_0242ac1c0002row13_col1 {\n",
              "            background-color:  #f5f4f9;\n",
              "            color:  #000000;\n",
              "        }    #T_fa6e1a76_bf19_11ea_b06a_0242ac1c0002row14_col1 {\n",
              "            background-color:  #f8f6fa;\n",
              "            color:  #000000;\n",
              "        }    #T_fa6e1a76_bf19_11ea_b06a_0242ac1c0002row15_col1 {\n",
              "            background-color:  #faf8fb;\n",
              "            color:  #000000;\n",
              "        }    #T_fa6e1a76_bf19_11ea_b06a_0242ac1c0002row16_col1 {\n",
              "            background-color:  #faf9fc;\n",
              "            color:  #000000;\n",
              "        }    #T_fa6e1a76_bf19_11ea_b06a_0242ac1c0002row17_col1 {\n",
              "            background-color:  #fbfafc;\n",
              "            color:  #000000;\n",
              "        }    #T_fa6e1a76_bf19_11ea_b06a_0242ac1c0002row18_col1 {\n",
              "            background-color:  #fcfbfd;\n",
              "            color:  #000000;\n",
              "        }    #T_fa6e1a76_bf19_11ea_b06a_0242ac1c0002row19_col1 {\n",
              "            background-color:  #fcfbfd;\n",
              "            color:  #000000;\n",
              "        }</style><table id=\"T_fa6e1a76_bf19_11ea_b06a_0242ac1c0002\" ><thead>    <tr>        <th class=\"blank level0\" ></th>        <th class=\"col_heading level0 col0\" >Common_words</th>        <th class=\"col_heading level0 col1\" >count</th>    </tr></thead><tbody>\n",
              "                <tr>\n",
              "                        <th id=\"T_fa6e1a76_bf19_11ea_b06a_0242ac1c0002level0_row0\" class=\"row_heading level0 row0\" >0</th>\n",
              "                        <td id=\"T_fa6e1a76_bf19_11ea_b06a_0242ac1c0002row0_col0\" class=\"data row0 col0\" >amp</td>\n",
              "                        <td id=\"T_fa6e1a76_bf19_11ea_b06a_0242ac1c0002row0_col1\" class=\"data row0 col1\" >222</td>\n",
              "            </tr>\n",
              "            <tr>\n",
              "                        <th id=\"T_fa6e1a76_bf19_11ea_b06a_0242ac1c0002level0_row1\" class=\"row_heading level0 row1\" >1</th>\n",
              "                        <td id=\"T_fa6e1a76_bf19_11ea_b06a_0242ac1c0002row1_col0\" class=\"data row1 col0\" >people</td>\n",
              "                        <td id=\"T_fa6e1a76_bf19_11ea_b06a_0242ac1c0002row1_col1\" class=\"data row1 col1\" >182</td>\n",
              "            </tr>\n",
              "            <tr>\n",
              "                        <th id=\"T_fa6e1a76_bf19_11ea_b06a_0242ac1c0002level0_row2\" class=\"row_heading level0 row2\" >2</th>\n",
              "                        <td id=\"T_fa6e1a76_bf19_11ea_b06a_0242ac1c0002row2_col0\" class=\"data row2 col0\" >new</td>\n",
              "                        <td id=\"T_fa6e1a76_bf19_11ea_b06a_0242ac1c0002row2_col1\" class=\"data row2 col1\" >174</td>\n",
              "            </tr>\n",
              "            <tr>\n",
              "                        <th id=\"T_fa6e1a76_bf19_11ea_b06a_0242ac1c0002level0_row3\" class=\"row_heading level0 row3\" >3</th>\n",
              "                        <td id=\"T_fa6e1a76_bf19_11ea_b06a_0242ac1c0002row3_col0\" class=\"data row3 col0\" >us</td>\n",
              "                        <td id=\"T_fa6e1a76_bf19_11ea_b06a_0242ac1c0002row3_col1\" class=\"data row3 col1\" >126</td>\n",
              "            </tr>\n",
              "            <tr>\n",
              "                        <th id=\"T_fa6e1a76_bf19_11ea_b06a_0242ac1c0002level0_row4\" class=\"row_heading level0 row4\" >4</th>\n",
              "                        <td id=\"T_fa6e1a76_bf19_11ea_b06a_0242ac1c0002row4_col0\" class=\"data row4 col0\" >pandemic</td>\n",
              "                        <td id=\"T_fa6e1a76_bf19_11ea_b06a_0242ac1c0002row4_col1\" class=\"data row4 col1\" >119</td>\n",
              "            </tr>\n",
              "            <tr>\n",
              "                        <th id=\"T_fa6e1a76_bf19_11ea_b06a_0242ac1c0002level0_row5\" class=\"row_heading level0 row5\" >5</th>\n",
              "                        <td id=\"T_fa6e1a76_bf19_11ea_b06a_0242ac1c0002row5_col0\" class=\"data row5 col0\" >deaths</td>\n",
              "                        <td id=\"T_fa6e1a76_bf19_11ea_b06a_0242ac1c0002row5_col1\" class=\"data row5 col1\" >104</td>\n",
              "            </tr>\n",
              "            <tr>\n",
              "                        <th id=\"T_fa6e1a76_bf19_11ea_b06a_0242ac1c0002level0_row6\" class=\"row_heading level0 row6\" >6</th>\n",
              "                        <td id=\"T_fa6e1a76_bf19_11ea_b06a_0242ac1c0002row6_col0\" class=\"data row6 col0\" >trump</td>\n",
              "                        <td id=\"T_fa6e1a76_bf19_11ea_b06a_0242ac1c0002row6_col1\" class=\"data row6 col1\" >101</td>\n",
              "            </tr>\n",
              "            <tr>\n",
              "                        <th id=\"T_fa6e1a76_bf19_11ea_b06a_0242ac1c0002level0_row7\" class=\"row_heading level0 row7\" >7</th>\n",
              "                        <td id=\"T_fa6e1a76_bf19_11ea_b06a_0242ac1c0002row7_col0\" class=\"data row7 col0\" >one</td>\n",
              "                        <td id=\"T_fa6e1a76_bf19_11ea_b06a_0242ac1c0002row7_col1\" class=\"data row7 col1\" >100</td>\n",
              "            </tr>\n",
              "            <tr>\n",
              "                        <th id=\"T_fa6e1a76_bf19_11ea_b06a_0242ac1c0002level0_row8\" class=\"row_heading level0 row8\" >8</th>\n",
              "                        <td id=\"T_fa6e1a76_bf19_11ea_b06a_0242ac1c0002row8_col0\" class=\"data row8 col0\" >health</td>\n",
              "                        <td id=\"T_fa6e1a76_bf19_11ea_b06a_0242ac1c0002row8_col1\" class=\"data row8 col1\" >93</td>\n",
              "            </tr>\n",
              "            <tr>\n",
              "                        <th id=\"T_fa6e1a76_bf19_11ea_b06a_0242ac1c0002level0_row9\" class=\"row_heading level0 row9\" >9</th>\n",
              "                        <td id=\"T_fa6e1a76_bf19_11ea_b06a_0242ac1c0002row9_col0\" class=\"data row9 col0\" >cases</td>\n",
              "                        <td id=\"T_fa6e1a76_bf19_11ea_b06a_0242ac1c0002row9_col1\" class=\"data row9 col1\" >89</td>\n",
              "            </tr>\n",
              "            <tr>\n",
              "                        <th id=\"T_fa6e1a76_bf19_11ea_b06a_0242ac1c0002level0_row10\" class=\"row_heading level0 row10\" >10</th>\n",
              "                        <td id=\"T_fa6e1a76_bf19_11ea_b06a_0242ac1c0002row10_col0\" class=\"data row10 col0\" >government</td>\n",
              "                        <td id=\"T_fa6e1a76_bf19_11ea_b06a_0242ac1c0002row10_col1\" class=\"data row10 col1\" >85</td>\n",
              "            </tr>\n",
              "            <tr>\n",
              "                        <th id=\"T_fa6e1a76_bf19_11ea_b06a_0242ac1c0002level0_row11\" class=\"row_heading level0 row11\" >11</th>\n",
              "                        <td id=\"T_fa6e1a76_bf19_11ea_b06a_0242ac1c0002row11_col0\" class=\"data row11 col0\" >lockdown</td>\n",
              "                        <td id=\"T_fa6e1a76_bf19_11ea_b06a_0242ac1c0002row11_col1\" class=\"data row11 col1\" >80</td>\n",
              "            </tr>\n",
              "            <tr>\n",
              "                        <th id=\"T_fa6e1a76_bf19_11ea_b06a_0242ac1c0002level0_row12\" class=\"row_heading level0 row12\" >12</th>\n",
              "                        <td id=\"T_fa6e1a76_bf19_11ea_b06a_0242ac1c0002row12_col0\" class=\"data row12 col0\" >crisis</td>\n",
              "                        <td id=\"T_fa6e1a76_bf19_11ea_b06a_0242ac1c0002row12_col1\" class=\"data row12 col1\" >78</td>\n",
              "            </tr>\n",
              "            <tr>\n",
              "                        <th id=\"T_fa6e1a76_bf19_11ea_b06a_0242ac1c0002level0_row13\" class=\"row_heading level0 row13\" >13</th>\n",
              "                        <td id=\"T_fa6e1a76_bf19_11ea_b06a_0242ac1c0002row13_col0\" class=\"data row13 col0\" >get</td>\n",
              "                        <td id=\"T_fa6e1a76_bf19_11ea_b06a_0242ac1c0002row13_col1\" class=\"data row13 col1\" >78</td>\n",
              "            </tr>\n",
              "            <tr>\n",
              "                        <th id=\"T_fa6e1a76_bf19_11ea_b06a_0242ac1c0002level0_row14\" class=\"row_heading level0 row14\" >14</th>\n",
              "                        <td id=\"T_fa6e1a76_bf19_11ea_b06a_0242ac1c0002row14_col0\" class=\"data row14 col0\" >world</td>\n",
              "                        <td id=\"T_fa6e1a76_bf19_11ea_b06a_0242ac1c0002row14_col1\" class=\"data row14 col1\" >75</td>\n",
              "            </tr>\n",
              "            <tr>\n",
              "                        <th id=\"T_fa6e1a76_bf19_11ea_b06a_0242ac1c0002level0_row15\" class=\"row_heading level0 row15\" >15</th>\n",
              "                        <td id=\"T_fa6e1a76_bf19_11ea_b06a_0242ac1c0002row15_col0\" class=\"data row15 col0\" >like</td>\n",
              "                        <td id=\"T_fa6e1a76_bf19_11ea_b06a_0242ac1c0002row15_col1\" class=\"data row15 col1\" >72</td>\n",
              "            </tr>\n",
              "            <tr>\n",
              "                        <th id=\"T_fa6e1a76_bf19_11ea_b06a_0242ac1c0002level0_row16\" class=\"row_heading level0 row16\" >16</th>\n",
              "                        <td id=\"T_fa6e1a76_bf19_11ea_b06a_0242ac1c0002row16_col0\" class=\"data row16 col0\" >patients</td>\n",
              "                        <td id=\"T_fa6e1a76_bf19_11ea_b06a_0242ac1c0002row16_col1\" class=\"data row16 col1\" >71</td>\n",
              "            </tr>\n",
              "            <tr>\n",
              "                        <th id=\"T_fa6e1a76_bf19_11ea_b06a_0242ac1c0002level0_row17\" class=\"row_heading level0 row17\" >17</th>\n",
              "                        <td id=\"T_fa6e1a76_bf19_11ea_b06a_0242ac1c0002row17_col0\" class=\"data row17 col0\" >need</td>\n",
              "                        <td id=\"T_fa6e1a76_bf19_11ea_b06a_0242ac1c0002row17_col1\" class=\"data row17 col1\" >70</td>\n",
              "            </tr>\n",
              "            <tr>\n",
              "                        <th id=\"T_fa6e1a76_bf19_11ea_b06a_0242ac1c0002level0_row18\" class=\"row_heading level0 row18\" >18</th>\n",
              "                        <td id=\"T_fa6e1a76_bf19_11ea_b06a_0242ac1c0002row18_col0\" class=\"data row18 col0\" >today</td>\n",
              "                        <td id=\"T_fa6e1a76_bf19_11ea_b06a_0242ac1c0002row18_col1\" class=\"data row18 col1\" >69</td>\n",
              "            </tr>\n",
              "            <tr>\n",
              "                        <th id=\"T_fa6e1a76_bf19_11ea_b06a_0242ac1c0002level0_row19\" class=\"row_heading level0 row19\" >19</th>\n",
              "                        <td id=\"T_fa6e1a76_bf19_11ea_b06a_0242ac1c0002row19_col0\" class=\"data row19 col0\" >state</td>\n",
              "                        <td id=\"T_fa6e1a76_bf19_11ea_b06a_0242ac1c0002row19_col1\" class=\"data row19 col1\" >68</td>\n",
              "            </tr>\n",
              "    </tbody></table>"
            ],
            "text/plain": [
              "<pandas.io.formats.style.Styler at 0x7f0d389185f8>"
            ]
          },
          "metadata": {
            "tags": []
          },
          "execution_count": 31
        }
      ]
    },
    {
      "cell_type": "code",
      "metadata": {
        "id": "kGTGiaZ9ffyK",
        "colab_type": "code",
        "colab": {
          "base_uri": "https://localhost:8080/",
          "height": 460
        },
        "outputId": "9c100f83-1f16-46ce-c3aa-0816498ba0ae"
      },
      "source": [
        "# Most non covid-related words\n",
        "\n",
        "top = Counter([item for sublist in Covid_n['Covidtweet_list'] for item in sublist])\n",
        "Covid_negative = pd.DataFrame(top.most_common(20))\n",
        "Covid_negative.columns = ['Common_words','count']\n",
        "Covid_negative.style.background_gradient(cmap='Greens')"
      ],
      "execution_count": null,
      "outputs": [
        {
          "output_type": "execute_result",
          "data": {
            "text/html": [
              "<style  type=\"text/css\" >\n",
              "    #T_fa76e098_bf19_11ea_b06a_0242ac1c0002row0_col1 {\n",
              "            background-color:  #00441b;\n",
              "            color:  #f1f1f1;\n",
              "        }    #T_fa76e098_bf19_11ea_b06a_0242ac1c0002row1_col1 {\n",
              "            background-color:  #80ca80;\n",
              "            color:  #000000;\n",
              "        }    #T_fa76e098_bf19_11ea_b06a_0242ac1c0002row2_col1 {\n",
              "            background-color:  #cfecc9;\n",
              "            color:  #000000;\n",
              "        }    #T_fa76e098_bf19_11ea_b06a_0242ac1c0002row3_col1 {\n",
              "            background-color:  #cfecc9;\n",
              "            color:  #000000;\n",
              "        }    #T_fa76e098_bf19_11ea_b06a_0242ac1c0002row4_col1 {\n",
              "            background-color:  #d0edca;\n",
              "            color:  #000000;\n",
              "        }    #T_fa76e098_bf19_11ea_b06a_0242ac1c0002row5_col1 {\n",
              "            background-color:  #d3eecd;\n",
              "            color:  #000000;\n",
              "        }    #T_fa76e098_bf19_11ea_b06a_0242ac1c0002row6_col1 {\n",
              "            background-color:  #d7efd1;\n",
              "            color:  #000000;\n",
              "        }    #T_fa76e098_bf19_11ea_b06a_0242ac1c0002row7_col1 {\n",
              "            background-color:  #e9f7e5;\n",
              "            color:  #000000;\n",
              "        }    #T_fa76e098_bf19_11ea_b06a_0242ac1c0002row8_col1 {\n",
              "            background-color:  #e9f7e5;\n",
              "            color:  #000000;\n",
              "        }    #T_fa76e098_bf19_11ea_b06a_0242ac1c0002row9_col1 {\n",
              "            background-color:  #ebf7e7;\n",
              "            color:  #000000;\n",
              "        }    #T_fa76e098_bf19_11ea_b06a_0242ac1c0002row10_col1 {\n",
              "            background-color:  #ecf8e8;\n",
              "            color:  #000000;\n",
              "        }    #T_fa76e098_bf19_11ea_b06a_0242ac1c0002row11_col1 {\n",
              "            background-color:  #ecf8e8;\n",
              "            color:  #000000;\n",
              "        }    #T_fa76e098_bf19_11ea_b06a_0242ac1c0002row12_col1 {\n",
              "            background-color:  #ecf8e8;\n",
              "            color:  #000000;\n",
              "        }    #T_fa76e098_bf19_11ea_b06a_0242ac1c0002row13_col1 {\n",
              "            background-color:  #eff9eb;\n",
              "            color:  #000000;\n",
              "        }    #T_fa76e098_bf19_11ea_b06a_0242ac1c0002row14_col1 {\n",
              "            background-color:  #f2faef;\n",
              "            color:  #000000;\n",
              "        }    #T_fa76e098_bf19_11ea_b06a_0242ac1c0002row15_col1 {\n",
              "            background-color:  #f2faf0;\n",
              "            color:  #000000;\n",
              "        }    #T_fa76e098_bf19_11ea_b06a_0242ac1c0002row16_col1 {\n",
              "            background-color:  #f4fbf2;\n",
              "            color:  #000000;\n",
              "        }    #T_fa76e098_bf19_11ea_b06a_0242ac1c0002row17_col1 {\n",
              "            background-color:  #f6fcf4;\n",
              "            color:  #000000;\n",
              "        }    #T_fa76e098_bf19_11ea_b06a_0242ac1c0002row18_col1 {\n",
              "            background-color:  #f6fcf4;\n",
              "            color:  #000000;\n",
              "        }    #T_fa76e098_bf19_11ea_b06a_0242ac1c0002row19_col1 {\n",
              "            background-color:  #f7fcf5;\n",
              "            color:  #000000;\n",
              "        }</style><table id=\"T_fa76e098_bf19_11ea_b06a_0242ac1c0002\" ><thead>    <tr>        <th class=\"blank level0\" ></th>        <th class=\"col_heading level0 col0\" >Common_words</th>        <th class=\"col_heading level0 col1\" >count</th>    </tr></thead><tbody>\n",
              "                <tr>\n",
              "                        <th id=\"T_fa76e098_bf19_11ea_b06a_0242ac1c0002level0_row0\" class=\"row_heading level0 row0\" >0</th>\n",
              "                        <td id=\"T_fa76e098_bf19_11ea_b06a_0242ac1c0002row0_col0\" class=\"data row0 col0\" >ramadan</td>\n",
              "                        <td id=\"T_fa76e098_bf19_11ea_b06a_0242ac1c0002row0_col1\" class=\"data row0 col1\" >740</td>\n",
              "            </tr>\n",
              "            <tr>\n",
              "                        <th id=\"T_fa76e098_bf19_11ea_b06a_0242ac1c0002level0_row1\" class=\"row_heading level0 row1\" >1</th>\n",
              "                        <td id=\"T_fa76e098_bf19_11ea_b06a_0242ac1c0002row1_col0\" class=\"data row1 col0\" >sports</td>\n",
              "                        <td id=\"T_fa76e098_bf19_11ea_b06a_0242ac1c0002row1_col1\" class=\"data row1 col1\" >401</td>\n",
              "            </tr>\n",
              "            <tr>\n",
              "                        <th id=\"T_fa76e098_bf19_11ea_b06a_0242ac1c0002level0_row2\" class=\"row_heading level0 row2\" >2</th>\n",
              "                        <td id=\"T_fa76e098_bf19_11ea_b06a_0242ac1c0002row2_col0\" class=\"data row2 col0\" >python</td>\n",
              "                        <td id=\"T_fa76e098_bf19_11ea_b06a_0242ac1c0002row2_col1\" class=\"data row2 col1\" >244</td>\n",
              "            </tr>\n",
              "            <tr>\n",
              "                        <th id=\"T_fa76e098_bf19_11ea_b06a_0242ac1c0002level0_row3\" class=\"row_heading level0 row3\" >3</th>\n",
              "                        <td id=\"T_fa76e098_bf19_11ea_b06a_0242ac1c0002row3_col0\" class=\"data row3 col0\" >twitter</td>\n",
              "                        <td id=\"T_fa76e098_bf19_11ea_b06a_0242ac1c0002row3_col1\" class=\"data row3 col1\" >244</td>\n",
              "            </tr>\n",
              "            <tr>\n",
              "                        <th id=\"T_fa76e098_bf19_11ea_b06a_0242ac1c0002level0_row4\" class=\"row_heading level0 row4\" >4</th>\n",
              "                        <td id=\"T_fa76e098_bf19_11ea_b06a_0242ac1c0002row4_col0\" class=\"data row4 col0\" >com</td>\n",
              "                        <td id=\"T_fa76e098_bf19_11ea_b06a_0242ac1c0002row4_col1\" class=\"data row4 col1\" >241</td>\n",
              "            </tr>\n",
              "            <tr>\n",
              "                        <th id=\"T_fa76e098_bf19_11ea_b06a_0242ac1c0002level0_row5\" class=\"row_heading level0 row5\" >5</th>\n",
              "                        <td id=\"T_fa76e098_bf19_11ea_b06a_0242ac1c0002row5_col0\" class=\"data row5 col0\" >pic</td>\n",
              "                        <td id=\"T_fa76e098_bf19_11ea_b06a_0242ac1c0002row5_col1\" class=\"data row5 col1\" >233</td>\n",
              "            </tr>\n",
              "            <tr>\n",
              "                        <th id=\"T_fa76e098_bf19_11ea_b06a_0242ac1c0002level0_row6\" class=\"row_heading level0 row6\" >6</th>\n",
              "                        <td id=\"T_fa76e098_bf19_11ea_b06a_0242ac1c0002row6_col0\" class=\"data row6 col0\" >mercyofallah</td>\n",
              "                        <td id=\"T_fa76e098_bf19_11ea_b06a_0242ac1c0002row6_col1\" class=\"data row6 col1\" >224</td>\n",
              "            </tr>\n",
              "            <tr>\n",
              "                        <th id=\"T_fa76e098_bf19_11ea_b06a_0242ac1c0002level0_row7\" class=\"row_heading level0 row7\" >7</th>\n",
              "                        <td id=\"T_fa76e098_bf19_11ea_b06a_0242ac1c0002row7_col0\" class=\"data row7 col0\" >food</td>\n",
              "                        <td id=\"T_fa76e098_bf19_11ea_b06a_0242ac1c0002row7_col1\" class=\"data row7 col1\" >170</td>\n",
              "            </tr>\n",
              "            <tr>\n",
              "                        <th id=\"T_fa76e098_bf19_11ea_b06a_0242ac1c0002level0_row8\" class=\"row_heading level0 row8\" >8</th>\n",
              "                        <td id=\"T_fa76e098_bf19_11ea_b06a_0242ac1c0002row8_col0\" class=\"data row8 col0\" >month</td>\n",
              "                        <td id=\"T_fa76e098_bf19_11ea_b06a_0242ac1c0002row8_col1\" class=\"data row8 col1\" >166</td>\n",
              "            </tr>\n",
              "            <tr>\n",
              "                        <th id=\"T_fa76e098_bf19_11ea_b06a_0242ac1c0002level0_row9\" class=\"row_heading level0 row9\" >9</th>\n",
              "                        <td id=\"T_fa76e098_bf19_11ea_b06a_0242ac1c0002row9_col0\" class=\"data row9 col0\" >learning</td>\n",
              "                        <td id=\"T_fa76e098_bf19_11ea_b06a_0242ac1c0002row9_col1\" class=\"data row9 col1\" >162</td>\n",
              "            </tr>\n",
              "            <tr>\n",
              "                        <th id=\"T_fa76e098_bf19_11ea_b06a_0242ac1c0002level0_row10\" class=\"row_heading level0 row10\" >10</th>\n",
              "                        <td id=\"T_fa76e098_bf19_11ea_b06a_0242ac1c0002row10_col0\" class=\"data row10 col0\" >allah</td>\n",
              "                        <td id=\"T_fa76e098_bf19_11ea_b06a_0242ac1c0002row10_col1\" class=\"data row10 col1\" >158</td>\n",
              "            </tr>\n",
              "            <tr>\n",
              "                        <th id=\"T_fa76e098_bf19_11ea_b06a_0242ac1c0002level0_row11\" class=\"row_heading level0 row11\" >11</th>\n",
              "                        <td id=\"T_fa76e098_bf19_11ea_b06a_0242ac1c0002row11_col0\" class=\"data row11 col0\" >us</td>\n",
              "                        <td id=\"T_fa76e098_bf19_11ea_b06a_0242ac1c0002row11_col1\" class=\"data row11 col1\" >156</td>\n",
              "            </tr>\n",
              "            <tr>\n",
              "                        <th id=\"T_fa76e098_bf19_11ea_b06a_0242ac1c0002level0_row12\" class=\"row_heading level0 row12\" >12</th>\n",
              "                        <td id=\"T_fa76e098_bf19_11ea_b06a_0242ac1c0002row12_col0\" class=\"data row12 col0\" >like</td>\n",
              "                        <td id=\"T_fa76e098_bf19_11ea_b06a_0242ac1c0002row12_col1\" class=\"data row12 col1\" >155</td>\n",
              "            </tr>\n",
              "            <tr>\n",
              "                        <th id=\"T_fa76e098_bf19_11ea_b06a_0242ac1c0002level0_row13\" class=\"row_heading level0 row13\" >13</th>\n",
              "                        <td id=\"T_fa76e098_bf19_11ea_b06a_0242ac1c0002row13_col0\" class=\"data row13 col0\" >one</td>\n",
              "                        <td id=\"T_fa76e098_bf19_11ea_b06a_0242ac1c0002row13_col1\" class=\"data row13 col1\" >145</td>\n",
              "            </tr>\n",
              "            <tr>\n",
              "                        <th id=\"T_fa76e098_bf19_11ea_b06a_0242ac1c0002level0_row14\" class=\"row_heading level0 row14\" >14</th>\n",
              "                        <td id=\"T_fa76e098_bf19_11ea_b06a_0242ac1c0002row14_col0\" class=\"data row14 col0\" >time</td>\n",
              "                        <td id=\"T_fa76e098_bf19_11ea_b06a_0242ac1c0002row14_col1\" class=\"data row14 col1\" >129</td>\n",
              "            </tr>\n",
              "            <tr>\n",
              "                        <th id=\"T_fa76e098_bf19_11ea_b06a_0242ac1c0002level0_row15\" class=\"row_heading level0 row15\" >15</th>\n",
              "                        <td id=\"T_fa76e098_bf19_11ea_b06a_0242ac1c0002row15_col0\" class=\"data row15 col0\" >day</td>\n",
              "                        <td id=\"T_fa76e098_bf19_11ea_b06a_0242ac1c0002row15_col1\" class=\"data row15 col1\" >127</td>\n",
              "            </tr>\n",
              "            <tr>\n",
              "                        <th id=\"T_fa76e098_bf19_11ea_b06a_0242ac1c0002level0_row16\" class=\"row_heading level0 row16\" >16</th>\n",
              "                        <td id=\"T_fa76e098_bf19_11ea_b06a_0242ac1c0002row16_col0\" class=\"data row16 col0\" >people</td>\n",
              "                        <td id=\"T_fa76e098_bf19_11ea_b06a_0242ac1c0002row16_col1\" class=\"data row16 col1\" >119</td>\n",
              "            </tr>\n",
              "            <tr>\n",
              "                        <th id=\"T_fa76e098_bf19_11ea_b06a_0242ac1c0002level0_row17\" class=\"row_heading level0 row17\" >17</th>\n",
              "                        <td id=\"T_fa76e098_bf19_11ea_b06a_0242ac1c0002row17_col0\" class=\"data row17 col0\" >get</td>\n",
              "                        <td id=\"T_fa76e098_bf19_11ea_b06a_0242ac1c0002row17_col1\" class=\"data row17 col1\" >113</td>\n",
              "            </tr>\n",
              "            <tr>\n",
              "                        <th id=\"T_fa76e098_bf19_11ea_b06a_0242ac1c0002level0_row18\" class=\"row_heading level0 row18\" >18</th>\n",
              "                        <td id=\"T_fa76e098_bf19_11ea_b06a_0242ac1c0002row18_col0\" class=\"data row18 col0\" >ai</td>\n",
              "                        <td id=\"T_fa76e098_bf19_11ea_b06a_0242ac1c0002row18_col1\" class=\"data row18 col1\" >109</td>\n",
              "            </tr>\n",
              "            <tr>\n",
              "                        <th id=\"T_fa76e098_bf19_11ea_b06a_0242ac1c0002level0_row19\" class=\"row_heading level0 row19\" >19</th>\n",
              "                        <td id=\"T_fa76e098_bf19_11ea_b06a_0242ac1c0002row19_col0\" class=\"data row19 col0\" >amp</td>\n",
              "                        <td id=\"T_fa76e098_bf19_11ea_b06a_0242ac1c0002row19_col1\" class=\"data row19 col1\" >106</td>\n",
              "            </tr>\n",
              "    </tbody></table>"
            ],
            "text/plain": [
              "<pandas.io.formats.style.Styler at 0x7f0d3891aa90>"
            ]
          },
          "metadata": {
            "tags": []
          },
          "execution_count": 32
        }
      ]
    },
    {
      "cell_type": "code",
      "metadata": {
        "id": "NZXyCoVTixBh",
        "colab_type": "code",
        "colab": {}
      },
      "source": [
        "# This is a copy of the cleaned data that will be used for modelling\n",
        "\n",
        "dtrain_c = dtrain_o.copy"
      ],
      "execution_count": null,
      "outputs": []
    },
    {
      "cell_type": "code",
      "metadata": {
        "id": "fv0lvxFMjMy1",
        "colab_type": "code",
        "colab": {}
      },
      "source": [
        "# Mapping out the target column from categorical to string\n",
        "# \n",
        "target_txt = {1:\"positive\",0:\"negative\"}\n",
        "dtrain_o[\"target\"] = dtrain_o[\"target\"].map(target_txt)"
      ],
      "execution_count": null,
      "outputs": []
    },
    {
      "cell_type": "code",
      "metadata": {
        "id": "zogsdgyjj_ry",
        "colab_type": "code",
        "colab": {
          "base_uri": "https://localhost:8080/",
          "height": 289
        },
        "outputId": "a2037484-bbae-4938-aee4-f55d81f29692"
      },
      "source": [
        "dtrain_o.head()"
      ],
      "execution_count": null,
      "outputs": [
        {
          "output_type": "execute_result",
          "data": {
            "text/html": [
              "<div>\n",
              "<style scoped>\n",
              "    .dataframe tbody tr th:only-of-type {\n",
              "        vertical-align: middle;\n",
              "    }\n",
              "\n",
              "    .dataframe tbody tr th {\n",
              "        vertical-align: top;\n",
              "    }\n",
              "\n",
              "    .dataframe thead th {\n",
              "        text-align: right;\n",
              "    }\n",
              "</style>\n",
              "<table border=\"1\" class=\"dataframe\">\n",
              "  <thead>\n",
              "    <tr style=\"text-align: right;\">\n",
              "      <th></th>\n",
              "      <th>id</th>\n",
              "      <th>text</th>\n",
              "      <th>target</th>\n",
              "      <th>Covidtweet_list</th>\n",
              "      <th>Covidtweet_list1</th>\n",
              "    </tr>\n",
              "  </thead>\n",
              "  <tbody>\n",
              "    <tr>\n",
              "      <th>0</th>\n",
              "      <td>train_0</td>\n",
              "      <td>the bitcoin halving is cancelled due to</td>\n",
              "      <td>positive</td>\n",
              "      <td>[bitcoin, halving, cancelled, due]</td>\n",
              "      <td>[['bitcoin',, 'halving',, 'cancelled',, 'due']]</td>\n",
              "    </tr>\n",
              "    <tr>\n",
              "      <th>1</th>\n",
              "      <td>train_1</td>\n",
              "      <td>mercyofallah in good times wrapped in its gran...</td>\n",
              "      <td>negative</td>\n",
              "      <td>[mercyofallah, good, times, wrapped, granular,...</td>\n",
              "      <td>[['mercyofallah',, 'good',, 'times',, 'wrapped...</td>\n",
              "    </tr>\n",
              "    <tr>\n",
              "      <th>2</th>\n",
              "      <td>train_2</td>\n",
              "      <td>days no digital india no murder of e learning...</td>\n",
              "      <td>positive</td>\n",
              "      <td>[days, digital, india, murder, e, learning, on...</td>\n",
              "      <td>[['days',, 'digital',, 'india',, 'murder',, 'e...</td>\n",
              "    </tr>\n",
              "    <tr>\n",
              "      <th>3</th>\n",
              "      <td>train_3</td>\n",
              "      <td>india is likely to run out of the remaining rn...</td>\n",
              "      <td>positive</td>\n",
              "      <td>[india, likely, run, remaining, rna, kits, ess...</td>\n",
              "      <td>[['india',, 'likely',, 'run',, 'remaining',, '...</td>\n",
              "    </tr>\n",
              "    <tr>\n",
              "      <th>4</th>\n",
              "      <td>train_4</td>\n",
              "      <td>in these tough times the best way to grow is t...</td>\n",
              "      <td>negative</td>\n",
              "      <td>[tough, times, best, way, grow, learn, case, t...</td>\n",
              "      <td>[['tough',, 'times',, 'best',, 'way',, 'grow',...</td>\n",
              "    </tr>\n",
              "  </tbody>\n",
              "</table>\n",
              "</div>"
            ],
            "text/plain": [
              "        id  ...                                   Covidtweet_list1\n",
              "0  train_0  ...    [['bitcoin',, 'halving',, 'cancelled',, 'due']]\n",
              "1  train_1  ...  [['mercyofallah',, 'good',, 'times',, 'wrapped...\n",
              "2  train_2  ...  [['days',, 'digital',, 'india',, 'murder',, 'e...\n",
              "3  train_3  ...  [['india',, 'likely',, 'run',, 'remaining',, '...\n",
              "4  train_4  ...  [['tough',, 'times',, 'best',, 'way',, 'grow',...\n",
              "\n",
              "[5 rows x 5 columns]"
            ]
          },
          "metadata": {
            "tags": []
          },
          "execution_count": 35
        }
      ]
    },
    {
      "cell_type": "code",
      "metadata": {
        "id": "j3LDxyMjf3Ei",
        "colab_type": "code",
        "colab": {}
      },
      "source": [
        "raw_text = [word for word_list in dtrain_o['Covidtweet_list1'] for word in word_list]"
      ],
      "execution_count": null,
      "outputs": []
    },
    {
      "cell_type": "code",
      "metadata": {
        "id": "26XjJ8cKgi60",
        "colab_type": "code",
        "colab": {}
      },
      "source": [
        "def words_unique(target,numwords,raw_words):\n",
        "    allother = []\n",
        "    for item in dtrain_o[dtrain_o.target != target]['Covidtweet_list1']:\n",
        "        for word in item:\n",
        "            allother .append(word)\n",
        "    allother  = list(set(allother ))\n",
        "    \n",
        "    specificnonly = [x for x in raw_text if x not in allother]\n",
        "    \n",
        "    mycounter = Counter()\n",
        "    \n",
        "    for item in dtrain_o[dtrain_o.target != target]['Covidtweet_list1']:\n",
        "        for word in item:\n",
        "            mycounter[word] += 1\n",
        "    keep = list(specificnonly)\n",
        "    \n",
        "    for word in list(mycounter):\n",
        "        if word not in keep:\n",
        "            del mycounter[word]\n",
        "    \n",
        "    Unique_words = pd.DataFrame(mycounter.most_common(numwords), columns = ['words','count'])\n",
        "    \n",
        "    return Unique_words"
      ],
      "execution_count": null,
      "outputs": []
    },
    {
      "cell_type": "code",
      "metadata": {
        "id": "oniqhwtelmqO",
        "colab_type": "code",
        "colab": {
          "base_uri": "https://localhost:8080/",
          "height": 57
        },
        "outputId": "29758ab4-63d9-4d97-fa02-427d5836c76e"
      },
      "source": [
        "Unique_Positive = words_unique('positive',20,raw_text)\n",
        "print(\"The top 20 unique words in Covid-related Tweets are:\")\n",
        "Unique_Positive.style.background_gradient(cmap='Pinks')"
      ],
      "execution_count": null,
      "outputs": [
        {
          "output_type": "stream",
          "text": [
            "The top 20 unique words in Covid-related Tweets are:\n"
          ],
          "name": "stdout"
        },
        {
          "output_type": "execute_result",
          "data": {
            "text/html": [
              "<style  type=\"text/css\" >\n",
              "</style><table id=\"T_fee1f6ea_bf19_11ea_b06a_0242ac1c0002\" ><thead>    <tr>        <th class=\"blank level0\" ></th>        <th class=\"col_heading level0 col0\" >words</th>        <th class=\"col_heading level0 col1\" >count</th>    </tr></thead><tbody>\n",
              "        </tbody></table>"
            ],
            "text/plain": [
              "<pandas.io.formats.style.Styler at 0x7f0d39199f28>"
            ]
          },
          "metadata": {
            "tags": []
          },
          "execution_count": 38
        }
      ]
    },
    {
      "cell_type": "code",
      "metadata": {
        "id": "iBdyf3yRpkI7",
        "colab_type": "code",
        "colab": {
          "base_uri": "https://localhost:8080/",
          "height": 57
        },
        "outputId": "3379d252-555e-45c7-9605-80b9d1e7c080"
      },
      "source": [
        "Unique_negative = words_unique('negative',20,raw_text)\n",
        "print(\"The top 20 unique words in non Covid-related Tweets are:\")\n",
        "Unique_negative.style.background_gradient(cmap='Pinks')"
      ],
      "execution_count": null,
      "outputs": [
        {
          "output_type": "stream",
          "text": [
            "The top 20 unique words in non Covid-related Tweets are:\n"
          ],
          "name": "stdout"
        },
        {
          "output_type": "execute_result",
          "data": {
            "text/html": [
              "<style  type=\"text/css\" >\n",
              "</style><table id=\"T_0345626c_bf1a_11ea_b06a_0242ac1c0002\" ><thead>    <tr>        <th class=\"blank level0\" ></th>        <th class=\"col_heading level0 col0\" >words</th>        <th class=\"col_heading level0 col1\" >count</th>    </tr></thead><tbody>\n",
              "        </tbody></table>"
            ],
            "text/plain": [
              "<pandas.io.formats.style.Styler at 0x7f0d389179e8>"
            ]
          },
          "metadata": {
            "tags": []
          },
          "execution_count": 39
        }
      ]
    },
    {
      "cell_type": "markdown",
      "metadata": {
        "id": "P5wJY1sjoDd9",
        "colab_type": "text"
      },
      "source": [
        "## WordCloud"
      ]
    },
    {
      "cell_type": "code",
      "metadata": {
        "id": "T1rGsvJ2sl6j",
        "colab_type": "code",
        "colab": {}
      },
      "source": [
        "import os\n",
        "for dirname, _, filenames in os.walk('/kaggle/input'):\n",
        "    for filename in filenames:\n",
        "        print(os.path.join(dirname, filename))"
      ],
      "execution_count": null,
      "outputs": []
    },
    {
      "cell_type": "code",
      "metadata": {
        "id": "IKB_jQGLoIYM",
        "colab_type": "code",
        "colab": {}
      },
      "source": [
        "def plot_wordcloud(text, mask=None, max_words=200, max_font_size=100, figure_size=(24.0,16.0), color = 'white',\n",
        "                   title = None, title_size=40, image_color=False):\n",
        "    stopwords = set(STOPWORDS)\n",
        "    more_stopwords = {'u', \"im\"}\n",
        "    stopwords = stopwords.union(more_stopwords)\n",
        "\n",
        "    wordcloud = WordCloud(background_color=color,\n",
        "                    stopwords = stopwords,\n",
        "                    max_words = max_words,\n",
        "                    max_font_size = max_font_size, \n",
        "                    random_state = 42,\n",
        "                    width=400, \n",
        "                    height=200,\n",
        "                    mask = mask)\n",
        "    wordcloud.generate(str(text))\n",
        "    \n",
        "    plt.figure(figsize=(10,10))\n",
        "    if image_color:\n",
        "        image_colors = ImageColorGenerator(mask);\n",
        "        plt.imshow(wordcloud.recolor(color_func=image_colors), interpolation=\"bilinear\");\n",
        "        plt.title(title, fontdict={'size': title_size,  \n",
        "                                  'verticalalignment': 'bottom'})\n",
        "    else:\n",
        "        plt.imshow(wordcloud);\n",
        "        plt.title(title, fontdict={'size': title_size, 'color': 'black', \n",
        "                                  'verticalalignment': 'bottom'})\n",
        "    plt.axis('off');\n",
        "    plt.tight_layout()  \n",
        "d = '/kaggle/input/masks-for-wordclouds/'\n"
      ],
      "execution_count": null,
      "outputs": []
    },
    {
      "cell_type": "code",
      "metadata": {
        "id": "udXTPZD0sRSB",
        "colab_type": "code",
        "colab": {
          "base_uri": "https://localhost:8080/",
          "height": 380
        },
        "outputId": "5e91141a-efda-48f7-f945-710ed9a02940"
      },
      "source": [
        "# Word cloud for the train text column\n",
        "\n",
        "plot_wordcloud(Covid_p['text'])\n",
        "\n",
        "# Most used word have a big font"
      ],
      "execution_count": null,
      "outputs": [
        {
          "output_type": "display_data",
          "data": {
            "image/png": "[encoded data removed]",
            "text/plain": [
              "<Figure size 720x720 with 1 Axes>"
            ]
          },
          "metadata": {
            "tags": [],
            "needs_background": "light"
          }
        }
      ]
    },
    {
      "cell_type": "code",
      "metadata": {
        "id": "1s4hWHeRXbVa",
        "colab_type": "code",
        "colab": {
          "base_uri": "https://localhost:8080/",
          "height": 380
        },
        "outputId": "7afaeb48-5d29-4af8-eb4d-337c0fff79b8"
      },
      "source": [
        "# Word cloud for the train text column\n",
        "\n",
        "plot_wordcloud(Covid_n['text'])\n",
        "\n",
        "# Most used word have a big font"
      ],
      "execution_count": null,
      "outputs": [
        {
          "output_type": "display_data",
          "data": {
            "image/png": "[encoded data removed]",
            "text/plain": [
              "<Figure size 720x720 with 1 Axes>"
            ]
          },
          "metadata": {
            "tags": [],
            "needs_background": "light"
          }
        }
      ]
    },
    {
      "cell_type": "markdown",
      "metadata": {
        "id": "_vZvY5RoYven",
        "colab_type": "text"
      },
      "source": [
        "# Building The Model"
      ]
    },
    {
      "cell_type": "markdown",
      "metadata": {
        "id": "WsUbBNVlN3nu",
        "colab_type": "text"
      },
      "source": [
        "Simple Neural Network"
      ]
    },
    {
      "cell_type": "code",
      "metadata": {
        "id": "k1TFJ8f_Zg_G",
        "colab_type": "code",
        "colab": {}
      },
      "source": [
        "# Loading in the test & train data \n",
        "dtest = pd.read_csv('/content/updated_test.csv')\n",
        "dtrain = pd.read_csv('/content/updated_train.csv')\n"
      ],
      "execution_count": null,
      "outputs": []
    },
    {
      "cell_type": "code",
      "metadata": {
        "id": "Y8PUBdWVZ4Po",
        "colab_type": "code",
        "colab": {}
      },
      "source": [
        "# Split into test and train sets\n",
        "\n",
        "X_train = dtrain['text']\n",
        "y_train = dtrain['target']\n",
        "X_test = dtest['text']\n",
        "y_test = dtest['target']"
      ],
      "execution_count": null,
      "outputs": []
    },
    {
      "cell_type": "code",
      "metadata": {
        "id": "RKWuaq8qY0WC",
        "colab_type": "code",
        "colab": {
          "base_uri": "https://localhost:8080/",
          "height": 255
        },
        "outputId": "cd019575-92bd-4bfa-d044-494b24f9930b"
      },
      "source": [
        "# create a Keras layer that uses a TensorFlow Hub model to embed the sentences,\n",
        "#  and try it out on a couple of input examples\n",
        "\n",
        "import tensorflow as tf\n",
        "import tensorflow_hub as hub\n",
        "\n",
        "model = \"https://tfhub.dev/google/tf2-preview/gnews-swivel-20dim/1\"\n",
        "hub_layer = hub.KerasLayer(model, input_shape=[], \n",
        "                           dtype=tf.string, trainable=True)\n",
        "hub_layer(X_train[:3])"
      ],
      "execution_count": null,
      "outputs": [
        {
          "output_type": "execute_result",
          "data": {
            "text/plain": [
              "<tf.Tensor: shape=(3, 20), dtype=float32, numpy=\n",
              "array([[-0.7041843 ,  0.15388134,  1.0563254 ,  0.8473328 ,  0.18288001,\n",
              "        -0.8431668 , -0.49527642, -0.21672405, -0.42851803, -0.5328525 ,\n",
              "        -0.04886663,  0.23051965, -0.8315842 , -0.08369062,  0.2583077 ,\n",
              "         0.9938026 ,  0.6342579 , -1.0750397 ,  0.5284229 ,  0.16025679],\n",
              "       [ 1.1747621 , -0.7191744 ,  1.2195085 , -0.03544032, -1.5267428 ,\n",
              "        -0.8965378 , -1.0072674 ,  0.39809346,  0.6668438 , -0.85907716,\n",
              "        -0.61024773,  0.3812814 , -0.01545231,  0.621198  , -1.5138758 ,\n",
              "         0.09773969,  1.7157995 , -1.2480539 , -1.0230833 , -1.0361196 ],\n",
              "       [-0.8911016 , -0.46230185,  0.9612386 ,  0.56476736, -1.167104  ,\n",
              "        -0.43873462, -0.6352129 , -1.6592913 ,  0.09238639, -0.70914143,\n",
              "        -0.9174134 , -1.2876259 ,  0.21700515,  0.4310439 ,  0.8991752 ,\n",
              "        -1.4679796 , -1.004369  ,  0.8176357 ,  1.4103048 , -0.8398608 ]],\n",
              "      dtype=float32)>"
            ]
          },
          "metadata": {
            "tags": []
          },
          "execution_count": 46
        }
      ]
    },
    {
      "cell_type": "code",
      "metadata": {
        "id": "JPQlVIbNbB0w",
        "colab_type": "code",
        "colab": {
          "base_uri": "https://localhost:8080/",
          "height": 255
        },
        "outputId": "1537f98d-1929-4f74-a011-b004690bb385"
      },
      "source": [
        "# Let's now build the full model:\n",
        "\n",
        "model = tf.keras.Sequential()\n",
        "model.add(hub_layer)\n",
        "model.add(tf.keras.layers.Dense(16, activation='relu'))\n",
        "model.add(tf.keras.layers.Dense(1))\n",
        "\n",
        "model.summary()\n"
      ],
      "execution_count": null,
      "outputs": [
        {
          "output_type": "stream",
          "text": [
            "Model: \"sequential\"\n",
            "_________________________________________________________________\n",
            "Layer (type)                 Output Shape              Param #   \n",
            "=================================================================\n",
            "keras_layer (KerasLayer)     (None, 20)                400020    \n",
            "_________________________________________________________________\n",
            "dense (Dense)                (None, 16)                336       \n",
            "_________________________________________________________________\n",
            "dense_1 (Dense)              (None, 1)                 17        \n",
            "=================================================================\n",
            "Total params: 400,373\n",
            "Trainable params: 400,373\n",
            "Non-trainable params: 0\n",
            "_________________________________________________________________\n"
          ],
          "name": "stdout"
        }
      ]
    },
    {
      "cell_type": "code",
      "metadata": {
        "id": "nkcL4iYQbOMr",
        "colab_type": "code",
        "colab": {}
      },
      "source": [
        "# Now, configure the model to use an optimizer and a loss function:\n",
        "\n",
        "model.compile(optimizer='adam',\n",
        "              loss=tf.losses.BinaryCrossentropy(from_logits=True),\n",
        "              metrics=['accuracy'])"
      ],
      "execution_count": null,
      "outputs": []
    },
    {
      "cell_type": "code",
      "metadata": {
        "id": "ijwGj2j9bhot",
        "colab_type": "code",
        "colab": {}
      },
      "source": [
        "# # Create a validation set\n",
        "\n",
        "X_train_true = X_train[1963:5287]\n",
        "X_val = X_train[:1962]\n",
        "y_train_true = y_train[1963:5287]\n",
        "y_val = y_train[:1962,]"
      ],
      "execution_count": null,
      "outputs": []
    },
    {
      "cell_type": "code",
      "metadata": {
        "id": "WW2VVisTWCO8",
        "colab_type": "code",
        "colab": {
          "base_uri": "https://localhost:8080/",
          "height": 717
        },
        "outputId": "985a71e9-d0ae-40bc-9a3d-818fa44cf38a"
      },
      "source": [
        "# # Train the model\n",
        "\n",
        "trained = model.fit(X_train,\n",
        "                    y_train,\n",
        "                    epochs=20,\n",
        "                    batch_size=256,\n",
        "                    validation_data=(X_val, y_val),\n",
        "                    verbose=1)"
      ],
      "execution_count": null,
      "outputs": [
        {
          "output_type": "stream",
          "text": [
            "Epoch 1/20\n",
            "21/21 [==============================] - 0s 17ms/step - loss: 0.7332 - accuracy: 0.5145 - val_loss: 0.7022 - val_accuracy: 0.5097\n",
            "Epoch 2/20\n",
            "21/21 [==============================] - 0s 9ms/step - loss: 0.6726 - accuracy: 0.5247 - val_loss: 0.6517 - val_accuracy: 0.5219\n",
            "Epoch 3/20\n",
            "21/21 [==============================] - 0s 9ms/step - loss: 0.6273 - accuracy: 0.5566 - val_loss: 0.6071 - val_accuracy: 0.5826\n",
            "Epoch 4/20\n",
            "21/21 [==============================] - 0s 9ms/step - loss: 0.5837 - accuracy: 0.6306 - val_loss: 0.5640 - val_accuracy: 0.6667\n",
            "Epoch 5/20\n",
            "21/21 [==============================] - 0s 9ms/step - loss: 0.5417 - accuracy: 0.6966 - val_loss: 0.5229 - val_accuracy: 0.7166\n",
            "Epoch 6/20\n",
            "21/21 [==============================] - 0s 9ms/step - loss: 0.5020 - accuracy: 0.7369 - val_loss: 0.4849 - val_accuracy: 0.7574\n",
            "Epoch 7/20\n",
            "21/21 [==============================] - 0s 9ms/step - loss: 0.4656 - accuracy: 0.7666 - val_loss: 0.4503 - val_accuracy: 0.7757\n",
            "Epoch 8/20\n",
            "21/21 [==============================] - 0s 8ms/step - loss: 0.4329 - accuracy: 0.7918 - val_loss: 0.4181 - val_accuracy: 0.7971\n",
            "Epoch 9/20\n",
            "21/21 [==============================] - 0s 9ms/step - loss: 0.4015 - accuracy: 0.8118 - val_loss: 0.3873 - val_accuracy: 0.8211\n",
            "Epoch 10/20\n",
            "21/21 [==============================] - 0s 9ms/step - loss: 0.3725 - accuracy: 0.8315 - val_loss: 0.3580 - val_accuracy: 0.8374\n",
            "Epoch 11/20\n",
            "21/21 [==============================] - 0s 9ms/step - loss: 0.3453 - accuracy: 0.8455 - val_loss: 0.3304 - val_accuracy: 0.8552\n",
            "Epoch 12/20\n",
            "21/21 [==============================] - 0s 9ms/step - loss: 0.3195 - accuracy: 0.8640 - val_loss: 0.3046 - val_accuracy: 0.8649\n",
            "Epoch 13/20\n",
            "21/21 [==============================] - 0s 8ms/step - loss: 0.2950 - accuracy: 0.8701 - val_loss: 0.2783 - val_accuracy: 0.8848\n",
            "Epoch 14/20\n",
            "21/21 [==============================] - 0s 8ms/step - loss: 0.2707 - accuracy: 0.8858 - val_loss: 0.2546 - val_accuracy: 0.8940\n",
            "Epoch 15/20\n",
            "21/21 [==============================] - 0s 9ms/step - loss: 0.2483 - accuracy: 0.8954 - val_loss: 0.2318 - val_accuracy: 0.9067\n",
            "Epoch 16/20\n",
            "21/21 [==============================] - 0s 10ms/step - loss: 0.2271 - accuracy: 0.9085 - val_loss: 0.2110 - val_accuracy: 0.9108\n",
            "Epoch 17/20\n",
            "21/21 [==============================] - 0s 9ms/step - loss: 0.2069 - accuracy: 0.9179 - val_loss: 0.1903 - val_accuracy: 0.9251\n",
            "Epoch 18/20\n",
            "21/21 [==============================] - 0s 9ms/step - loss: 0.1883 - accuracy: 0.9270 - val_loss: 0.1721 - val_accuracy: 0.9276\n",
            "Epoch 19/20\n",
            "21/21 [==============================] - 0s 9ms/step - loss: 0.1710 - accuracy: 0.9342 - val_loss: 0.1548 - val_accuracy: 0.9399\n",
            "Epoch 20/20\n",
            "21/21 [==============================] - 0s 9ms/step - loss: 0.1550 - accuracy: 0.9404 - val_loss: 0.1395 - val_accuracy: 0.9501\n"
          ],
          "name": "stdout"
        }
      ]
    },
    {
      "cell_type": "code",
      "metadata": {
        "id": "PkqfPzu6jjNc",
        "colab_type": "code",
        "colab": {
          "base_uri": "https://localhost:8080/",
          "height": 51
        },
        "outputId": "a64dbbd8-e924-4090-adc9-0e949bf93587"
      },
      "source": [
        "# Evaluate the model\n",
        "\n",
        "results = model.evaluate(X_test, y_test)\n",
        "\n",
        "print(results)"
      ],
      "execution_count": null,
      "outputs": [
        {
          "output_type": "stream",
          "text": [
            "62/62 [==============================] - 0s 3ms/step - loss: 1.5717 - accuracy: 0.5688\n",
            "[1.5716843605041504, 0.5688073635101318]\n"
          ],
          "name": "stdout"
        }
      ]
    },
    {
      "cell_type": "markdown",
      "metadata": {
        "id": "gBYA8nDel7Dg",
        "colab_type": "text"
      },
      "source": [
        "\n",
        "\n",
        "Using Reccurent Neural Network"
      ]
    },
    {
      "cell_type": "code",
      "metadata": {
        "id": "nF9CmQ9CvaHe",
        "colab_type": "code",
        "colab": {}
      },
      "source": [
        "# Loading in the test & train data \n",
        "dtest = pd.read_csv('/content/updated_test.csv')\n",
        "dtrain = pd.read_csv('/content/updated_train.csv')\n"
      ],
      "execution_count": null,
      "outputs": []
    },
    {
      "cell_type": "code",
      "metadata": {
        "id": "nZPAJIShvf6X",
        "colab_type": "code",
        "colab": {}
      },
      "source": [
        "# Split into test and train sets\n",
        "\n",
        "X_train = dtrain['text']\n",
        "y_train = dtrain['target']\n",
        "X_test = dtest['text']\n",
        "y_test = dtest['target']"
      ],
      "execution_count": null,
      "outputs": []
    },
    {
      "cell_type": "code",
      "metadata": {
        "id": "5hfmaXek6IZi",
        "colab_type": "code",
        "colab": {}
      },
      "source": [
        "# Process the data\n",
        "# Tokenize the data and convert the text to sequences.\n",
        "# Add padding to ensure that all the sequences have the same shape.\n",
        "\n",
        "max_words = 1000\n",
        "max_len = 150\n",
        "token = Tokenizer(num_words=max_words)\n",
        "token.fit_on_texts(X_train)\n",
        "sequences = token.texts_to_sequences(X_train)\n",
        "sequences_matrix = sequence.pad_sequences(sequences,maxlen=max_len)"
      ],
      "execution_count": null,
      "outputs": []
    },
    {
      "cell_type": "code",
      "metadata": {
        "id": "cpRgK84Z6CCE",
        "colab_type": "code",
        "colab": {}
      },
      "source": [
        "# RNN\n",
        "# Define the RNN structure.\n",
        "\n",
        "def RNN():\n",
        "    inputs = Input(name='inputs',shape=[max_len])\n",
        "    layer = Embedding(max_words,100,input_length=max_len)(inputs)\n",
        "    layer = LSTM(64)(layer)\n",
        "    layer = Dense(100,name='FC1')(layer)\n",
        "    layer = Activation('relu')(layer)\n",
        "    layer = Dropout(0.5)(layer)\n",
        "    layer = Dense(1,name='out_layer')(layer)\n",
        "    layer = Activation('sigmoid')(layer)\n",
        "    model = Model(inputs=inputs,outputs=layer)\n",
        "    return model"
      ],
      "execution_count": null,
      "outputs": []
    },
    {
      "cell_type": "code",
      "metadata": {
        "id": "8erOVxqs7K1H",
        "colab_type": "code",
        "colab": {
          "base_uri": "https://localhost:8080/",
          "height": 425
        },
        "outputId": "94bf8fbe-91a1-4c22-afb1-e7c97d00f550"
      },
      "source": [
        "# Call the function and compile the model\n",
        "\n",
        "model = RNN()\n",
        "model.summary()\n",
        "model.compile(loss='binary_crossentropy',optimizer=RMSprop(),metrics=['accuracy'])"
      ],
      "execution_count": null,
      "outputs": [
        {
          "output_type": "stream",
          "text": [
            "Model: \"model_4\"\n",
            "_________________________________________________________________\n",
            "Layer (type)                 Output Shape              Param #   \n",
            "=================================================================\n",
            "inputs (InputLayer)          (None, 150)               0         \n",
            "_________________________________________________________________\n",
            "embedding_4 (Embedding)      (None, 150, 100)          100000    \n",
            "_________________________________________________________________\n",
            "lstm_4 (LSTM)                (None, 64)                42240     \n",
            "_________________________________________________________________\n",
            "FC1 (Dense)                  (None, 100)               6500      \n",
            "_________________________________________________________________\n",
            "activation_7 (Activation)    (None, 100)               0         \n",
            "_________________________________________________________________\n",
            "dropout_4 (Dropout)          (None, 100)               0         \n",
            "_________________________________________________________________\n",
            "out_layer (Dense)            (None, 1)                 101       \n",
            "_________________________________________________________________\n",
            "activation_8 (Activation)    (None, 1)                 0         \n",
            "=================================================================\n",
            "Total params: 148,841\n",
            "Trainable params: 148,841\n",
            "Non-trainable params: 0\n",
            "_________________________________________________________________\n"
          ],
          "name": "stdout"
        }
      ]
    },
    {
      "cell_type": "code",
      "metadata": {
        "id": "MER1m8Sl7Kyh",
        "colab_type": "code",
        "colab": {
          "base_uri": "https://localhost:8080/",
          "height": 751
        },
        "outputId": "f66481ec-e49a-4360-98ac-d14ce62228f1"
      },
      "source": [
        "# Fit on the training data.\n",
        "\n",
        "model.fit(sequences_matrix ,y_train,batch_size=256,epochs= 20,\n",
        "          validation_split=0.4, verbose=1)"
      ],
      "execution_count": null,
      "outputs": [
        {
          "output_type": "stream",
          "text": [
            "Train on 3172 samples, validate on 2115 samples\n",
            "Epoch 1/20\n",
            "3172/3172 [==============================] - 4s 1ms/step - loss: 0.6700 - accuracy: 0.6151 - val_loss: 0.6136 - val_accuracy: 0.7579\n",
            "Epoch 2/20\n",
            "3172/3172 [==============================] - 4s 1ms/step - loss: 0.5382 - accuracy: 0.7664 - val_loss: 0.4621 - val_accuracy: 0.8175\n",
            "Epoch 3/20\n",
            "3172/3172 [==============================] - 4s 1ms/step - loss: 0.3599 - accuracy: 0.8758 - val_loss: 0.5100 - val_accuracy: 0.7423\n",
            "Epoch 4/20\n",
            "3172/3172 [==============================] - 4s 1ms/step - loss: 0.2680 - accuracy: 0.8975 - val_loss: 0.3856 - val_accuracy: 0.8331\n",
            "Epoch 5/20\n",
            "3172/3172 [==============================] - 4s 1ms/step - loss: 0.5300 - accuracy: 0.8909 - val_loss: 0.3068 - val_accuracy: 0.8652\n",
            "Epoch 6/20\n",
            "3172/3172 [==============================] - 4s 1ms/step - loss: 0.1985 - accuracy: 0.9265 - val_loss: 0.3014 - val_accuracy: 0.8704\n",
            "Epoch 7/20\n",
            "3172/3172 [==============================] - 3s 1ms/step - loss: 0.1775 - accuracy: 0.9300 - val_loss: 0.3176 - val_accuracy: 0.8766\n",
            "Epoch 8/20\n",
            "3172/3172 [==============================] - 4s 1ms/step - loss: 0.2242 - accuracy: 0.9187 - val_loss: 0.3148 - val_accuracy: 0.8652\n",
            "Epoch 9/20\n",
            "3172/3172 [==============================] - 4s 1ms/step - loss: 0.1344 - accuracy: 0.9537 - val_loss: 0.3489 - val_accuracy: 0.8747\n",
            "Epoch 10/20\n",
            "3172/3172 [==============================] - 4s 1ms/step - loss: 0.1295 - accuracy: 0.9549 - val_loss: 0.3372 - val_accuracy: 0.8667\n",
            "Epoch 11/20\n",
            "3172/3172 [==============================] - 3s 1ms/step - loss: 0.1088 - accuracy: 0.9625 - val_loss: 0.3786 - val_accuracy: 0.8638\n",
            "Epoch 12/20\n",
            "3172/3172 [==============================] - 4s 1ms/step - loss: 0.1109 - accuracy: 0.9562 - val_loss: 0.4190 - val_accuracy: 0.8605\n",
            "Epoch 13/20\n",
            "3172/3172 [==============================] - 3s 1ms/step - loss: 0.1066 - accuracy: 0.9631 - val_loss: 0.4007 - val_accuracy: 0.8690\n",
            "Epoch 14/20\n",
            "3172/3172 [==============================] - 3s 1ms/step - loss: 0.0925 - accuracy: 0.9697 - val_loss: 0.4270 - val_accuracy: 0.8681\n",
            "Epoch 15/20\n",
            "3172/3172 [==============================] - 4s 1ms/step - loss: 0.0924 - accuracy: 0.9710 - val_loss: 0.4314 - val_accuracy: 0.8515\n",
            "Epoch 16/20\n",
            "3172/3172 [==============================] - 3s 1ms/step - loss: 0.0879 - accuracy: 0.9701 - val_loss: 0.4559 - val_accuracy: 0.8690\n",
            "Epoch 17/20\n",
            "3172/3172 [==============================] - 3s 1ms/step - loss: 0.0718 - accuracy: 0.9782 - val_loss: 0.4830 - val_accuracy: 0.8652\n",
            "Epoch 18/20\n",
            "3172/3172 [==============================] - 4s 1ms/step - loss: 0.0584 - accuracy: 0.9817 - val_loss: 0.5662 - val_accuracy: 0.8648\n",
            "Epoch 19/20\n",
            "3172/3172 [==============================] - 4s 1ms/step - loss: 0.0632 - accuracy: 0.9786 - val_loss: 0.5396 - val_accuracy: 0.8681\n",
            "Epoch 20/20\n",
            "3172/3172 [==============================] - 3s 1ms/step - loss: 0.0518 - accuracy: 0.9842 - val_loss: 0.6021 - val_accuracy: 0.8511\n"
          ],
          "name": "stdout"
        },
        {
          "output_type": "execute_result",
          "data": {
            "text/plain": [
              "<keras.callbacks.callbacks.History at 0x7f0d2067e8d0>"
            ]
          },
          "metadata": {
            "tags": []
          },
          "execution_count": 81
        }
      ]
    },
    {
      "cell_type": "code",
      "metadata": {
        "id": "Cgr4MVcl7Kvc",
        "colab_type": "code",
        "colab": {}
      },
      "source": [
        "# Process the test set data.\n",
        "\n",
        "test_sequences = token.texts_to_sequences(X_test)\n",
        "test_sequences_matrix = sequence.pad_sequences(test_sequences,maxlen=max_len)"
      ],
      "execution_count": null,
      "outputs": []
    },
    {
      "cell_type": "code",
      "metadata": {
        "id": "SUFEZpib7y1e",
        "colab_type": "code",
        "colab": {
          "base_uri": "https://localhost:8080/",
          "height": 85
        },
        "outputId": "5f8f961f-4d97-44f5-8d65-4bc0589dfbb9"
      },
      "source": [
        "# Evaluate the model on the test set.\n",
        "\n",
        "accr = model.evaluate(test_sequences_matrix,y_test)\n",
        "print('Test set\\n  Loss: {:0.3f}\\n  Accuracy: {:0.3f}'.format(accr[0],accr[1]))"
      ],
      "execution_count": null,
      "outputs": [
        {
          "output_type": "stream",
          "text": [
            "1962/1962 [==============================] - 1s 709us/step\n",
            "Test set\n",
            "  Loss: 2.589\n",
            "  Accuracy: 0.547\n"
          ],
          "name": "stdout"
        }
      ]
    },
    {
      "cell_type": "markdown",
      "metadata": {
        "id": "gqZOdiQ-OWR4",
        "colab_type": "text"
      },
      "source": [
        "## Conclusion"
      ]
    },
    {
      "cell_type": "markdown",
      "metadata": {
        "id": "G3v3NMPhOaVC",
        "colab_type": "text"
      },
      "source": [
        "Our first model gave us an accuracy of 0.57, and a loss of 1.57, using a batch_size of 64 over 20 epochs as hyperparameters. This is not as good as we expected hence we opted to use Recurrent Neural Networks to improve our accuracy.\n",
        "\n",
        "Using RNN, we used a relu activation funtion, a batchsize of 64 and 20 epoch but the accuracy decreased slightly to 0.547, and loss function decreased to 2.589\n",
        "\n",
        "Considering that the test set was completely independent from the train set we can say that our model performance was fair.\n",
        "\n",
        "The poor performance of our model may be due to inadequate training data.\n",
        "\n"
      ]
    },
    {
      "cell_type": "markdown",
      "metadata": {
        "id": "boRsxCg-RIxO",
        "colab_type": "text"
      },
      "source": [
        "##Follow up questions\n",
        "\n",
        "At this point, we can refine our question or collect new data, all in an iterative process to get at the truth.\n",
        "\n",
        "\n",
        "a). Did we have the right data?\n",
        "\n",
        "Yes\n",
        " \n",
        "because using the data we were able to conduct an analysis on our analytic question\n",
        "\n",
        "b). Do we need other data to answer our question?\n",
        "\n",
        "yes.\n",
        "\n",
        "The data provided was insufficient\n",
        "\n",
        "c). Did we have the right question?\n",
        "\n",
        "yes\n",
        "\n",
        "We were able to make conclusion from our data"
      ]
    }
  ]
}